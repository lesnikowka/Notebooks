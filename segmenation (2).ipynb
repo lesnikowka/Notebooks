{
 "cells": [
  {
   "cell_type": "code",
   "execution_count": 39,
   "metadata": {
    "colab": {
     "base_uri": "https://localhost:8080/",
     "height": 34
    },
    "id": "AezK_K-PzR8c",
    "outputId": "1eaaa6a2-278f-4f5f-fe0f-61404872057e"
   },
   "outputs": [
    {
     "data": {
      "application/javascript": [
       "IPython.notebook.set_autosave_interval(20000)"
      ]
     },
     "metadata": {},
     "output_type": "display_data"
    },
    {
     "name": "stdout",
     "output_type": "stream",
     "text": [
      "Autosaving every 20 seconds\n"
     ]
    }
   ],
   "source": [
    "%autosave 20\n",
    "\n",
    "import os\n",
    "import sys\n",
    "import random\n",
    "import numpy as np\n",
    "import cv2\n",
    "from matplotlib import pyplot as plt\n",
    "import tensorflow as tf\n",
    "from tensorflow import keras\n",
    "from keras.layers import Conv2D\n",
    "from keras.layers import MaxPool2D\n",
    "from keras.layers import UpSampling2D\n",
    "from keras.layers import Concatenate\n",
    "#from google.colab import drive\n",
    "import cv2"
   ]
  },
  {
   "cell_type": "code",
   "execution_count": 40,
   "metadata": {
    "colab": {
     "base_uri": "https://localhost:8080/"
    },
    "id": "0Xsso72uQ8KR",
    "outputId": "89687862-f0a1-4360-e1f6-442ab1dc8337"
   },
   "outputs": [],
   "source": [
    "'''drive.mount('/content/drive/')\n",
    "dataset_folder = 'drive/MyDrive/datasets/EndoTect_2020_Segmentation_Test_Dataset'''\n",
    "\n",
    "def load_data(folder, mask=False):\n",
    "  imgs = []\n",
    "\n",
    "  for fname in os.listdir(folder):\n",
    "    img = []\n",
    "    if not mask:\n",
    "      img = cv2.imread(os.path.join(folder, fname))\n",
    "    else:\n",
    "      img = cv2.imread(os.path.join(folder, fname), 0)\n",
    "    if img is not None:\n",
    "      imgs.append(img)\n",
    "\n",
    "  return imgs"
   ]
  },
  {
   "cell_type": "code",
   "execution_count": 41,
   "metadata": {
    "colab": {
     "base_uri": "https://localhost:8080/"
    },
    "id": "NJerVVUlb51e",
    "outputId": "5247a974-e1bd-4276-954d-22259719d36d"
   },
   "outputs": [
    {
     "name": "stdout",
     "output_type": "stream",
     "text": [
      "200 200\n"
     ]
    }
   ],
   "source": [
    "dataset_folder = 'C:/Users/lesni/Desktop/segmentation dataset/EndoTect_2020_Segmentation_Test_Dataset'\n",
    "\n",
    "images = load_data(dataset_folder + \"/images\")\n",
    "masks = load_data(dataset_folder + \"/masks\", True)\n",
    "\n",
    "print(len(images), len(masks))"
   ]
  },
  {
   "cell_type": "code",
   "execution_count": 46,
   "metadata": {
    "id": "pDS6IIJfccSl"
   },
   "outputs": [],
   "source": [
    "for i in range(len(images)):\n",
    "  images[i] = cv2.resize(images[i], (128,128))\n",
    "  masks[i] = cv2.resize(masks[i], (128,128))\n",
    "  mask_ = []\n",
    "  for j in range(128):\n",
    "    mask_row = []\n",
    "    for k in range(128):\n",
    "      mask_row.append([masks[i][j,k]])\n",
    "    mask_.append(mask_row)\n",
    "  mask__ = np.array(mask_)\n",
    "  masks[i] = mask__"
   ]
  },
  {
   "cell_type": "code",
   "execution_count": 47,
   "metadata": {
    "id": "xQsOT3cu2QXk"
   },
   "outputs": [],
   "source": [
    "for mask in masks:\n",
    "  mask_ = np.zeros((128,128,1))\n",
    "  mask = np.maximum(mask, mask_)"
   ]
  },
  {
   "cell_type": "code",
   "execution_count": 48,
   "metadata": {
    "id": "pc9-QNaf1f2y"
   },
   "outputs": [],
   "source": [
    "def down_conv(prev_layer, num_layers,  kernel_size=(3,3), padding=\"same\", strides=1, activation=\"relu\"):\n",
    "  conv = Conv2D(num_layers, kernel_size, padding=padding, strides=strides, activation=activation)(prev_layer)\n",
    "  conv = Conv2D(num_layers, kernel_size, padding=padding, strides=strides, activation=activation)(conv)\n",
    "  pool = MaxPool2D((2,2), (2,2))(conv)\n",
    "\n",
    "  return [conv, pool]\n",
    "\n",
    "def up_conv(prev_layer, skip_layer, num_layers,  kernel_size=(3,3), padding=\"same\", strides=1, activation=\"relu\"):\n",
    "  upsamp = UpSampling2D((2,2))(prev_layer)\n",
    "  conc = Concatenate()([upsamp, skip_layer])\n",
    "  conv = Conv2D(num_layers, kernel_size, padding=padding, strides=strides, activation=activation)(conc)\n",
    "  conv = Conv2D(num_layers, kernel_size, padding=padding, strides=strides, activation=activation)(conv)\n",
    "\n",
    "  return conv\n",
    "\n",
    "def bootle_neck(prev_layer, num_layers,  kernel_size=(3,3), padding=\"same\", strides=1, activation=\"relu\"):\n",
    "  conv = Conv2D(num_layers, kernel_size, padding=padding, strides=strides, activation=activation)(prev_layer)\n",
    "  conv = Conv2D(num_layers, kernel_size, padding=padding, strides=strides, activation=activation)(conv)\n",
    "\n",
    "  return conv\n",
    "\n",
    "def reduce_layers(layer):\n",
    "  return Conv2D(1, (1,1), padding=\"same\", activation=\"sigmoid\")(layer)"
   ]
  },
  {
   "cell_type": "code",
   "execution_count": 49,
   "metadata": {
    "colab": {
     "base_uri": "https://localhost:8080/"
    },
    "id": "xXS4t0C-5OLu",
    "outputId": "26928a5f-9ddb-48a7-a45b-5117348fe810"
   },
   "outputs": [
    {
     "name": "stdout",
     "output_type": "stream",
     "text": [
      "Model: \"model_3\"\n",
      "__________________________________________________________________________________________________\n",
      " Layer (type)                Output Shape                 Param #   Connected to                  \n",
      "==================================================================================================\n",
      " input_4 (InputLayer)        [(None, 128, 128, 3)]        0         []                            \n",
      "                                                                                                  \n",
      " conv2d_57 (Conv2D)          (None, 128, 128, 16)         448       ['input_4[0][0]']             \n",
      "                                                                                                  \n",
      " conv2d_58 (Conv2D)          (None, 128, 128, 16)         2320      ['conv2d_57[0][0]']           \n",
      "                                                                                                  \n",
      " max_pooling2d_12 (MaxPooli  (None, 64, 64, 16)           0         ['conv2d_58[0][0]']           \n",
      " ng2D)                                                                                            \n",
      "                                                                                                  \n",
      " conv2d_59 (Conv2D)          (None, 64, 64, 32)           4640      ['max_pooling2d_12[0][0]']    \n",
      "                                                                                                  \n",
      " conv2d_60 (Conv2D)          (None, 64, 64, 32)           9248      ['conv2d_59[0][0]']           \n",
      "                                                                                                  \n",
      " max_pooling2d_13 (MaxPooli  (None, 32, 32, 32)           0         ['conv2d_60[0][0]']           \n",
      " ng2D)                                                                                            \n",
      "                                                                                                  \n",
      " conv2d_61 (Conv2D)          (None, 32, 32, 64)           18496     ['max_pooling2d_13[0][0]']    \n",
      "                                                                                                  \n",
      " conv2d_62 (Conv2D)          (None, 32, 32, 64)           36928     ['conv2d_61[0][0]']           \n",
      "                                                                                                  \n",
      " max_pooling2d_14 (MaxPooli  (None, 16, 16, 64)           0         ['conv2d_62[0][0]']           \n",
      " ng2D)                                                                                            \n",
      "                                                                                                  \n",
      " conv2d_63 (Conv2D)          (None, 16, 16, 128)          73856     ['max_pooling2d_14[0][0]']    \n",
      "                                                                                                  \n",
      " conv2d_64 (Conv2D)          (None, 16, 16, 128)          147584    ['conv2d_63[0][0]']           \n",
      "                                                                                                  \n",
      " max_pooling2d_15 (MaxPooli  (None, 8, 8, 128)            0         ['conv2d_64[0][0]']           \n",
      " ng2D)                                                                                            \n",
      "                                                                                                  \n",
      " conv2d_65 (Conv2D)          (None, 8, 8, 256)            295168    ['max_pooling2d_15[0][0]']    \n",
      "                                                                                                  \n",
      " conv2d_66 (Conv2D)          (None, 8, 8, 256)            590080    ['conv2d_65[0][0]']           \n",
      "                                                                                                  \n",
      " up_sampling2d_12 (UpSampli  (None, 16, 16, 256)          0         ['conv2d_66[0][0]']           \n",
      " ng2D)                                                                                            \n",
      "                                                                                                  \n",
      " concatenate_12 (Concatenat  (None, 16, 16, 384)          0         ['up_sampling2d_12[0][0]',    \n",
      " e)                                                                  'conv2d_64[0][0]']           \n",
      "                                                                                                  \n",
      " conv2d_67 (Conv2D)          (None, 16, 16, 128)          442496    ['concatenate_12[0][0]']      \n",
      "                                                                                                  \n",
      " conv2d_68 (Conv2D)          (None, 16, 16, 128)          147584    ['conv2d_67[0][0]']           \n",
      "                                                                                                  \n",
      " up_sampling2d_13 (UpSampli  (None, 32, 32, 128)          0         ['conv2d_68[0][0]']           \n",
      " ng2D)                                                                                            \n",
      "                                                                                                  \n",
      " concatenate_13 (Concatenat  (None, 32, 32, 192)          0         ['up_sampling2d_13[0][0]',    \n",
      " e)                                                                  'conv2d_62[0][0]']           \n",
      "                                                                                                  \n",
      " conv2d_69 (Conv2D)          (None, 32, 32, 64)           110656    ['concatenate_13[0][0]']      \n",
      "                                                                                                  \n",
      " conv2d_70 (Conv2D)          (None, 32, 32, 64)           36928     ['conv2d_69[0][0]']           \n",
      "                                                                                                  \n",
      " up_sampling2d_14 (UpSampli  (None, 64, 64, 64)           0         ['conv2d_70[0][0]']           \n",
      " ng2D)                                                                                            \n",
      "                                                                                                  \n",
      " concatenate_14 (Concatenat  (None, 64, 64, 96)           0         ['up_sampling2d_14[0][0]',    \n",
      " e)                                                                  'conv2d_60[0][0]']           \n",
      "                                                                                                  \n",
      " conv2d_71 (Conv2D)          (None, 64, 64, 32)           27680     ['concatenate_14[0][0]']      \n",
      "                                                                                                  \n",
      " conv2d_72 (Conv2D)          (None, 64, 64, 32)           9248      ['conv2d_71[0][0]']           \n",
      "                                                                                                  \n",
      " up_sampling2d_15 (UpSampli  (None, 128, 128, 32)         0         ['conv2d_72[0][0]']           \n",
      " ng2D)                                                                                            \n",
      "                                                                                                  \n",
      " concatenate_15 (Concatenat  (None, 128, 128, 48)         0         ['up_sampling2d_15[0][0]',    \n",
      " e)                                                                  'conv2d_58[0][0]']           \n",
      "                                                                                                  \n",
      " conv2d_73 (Conv2D)          (None, 128, 128, 16)         6928      ['concatenate_15[0][0]']      \n",
      "                                                                                                  \n",
      " conv2d_74 (Conv2D)          (None, 128, 128, 16)         2320      ['conv2d_73[0][0]']           \n",
      "                                                                                                  \n",
      " conv2d_75 (Conv2D)          (None, 128, 128, 1)          17        ['conv2d_74[0][0]']           \n",
      "                                                                                                  \n",
      "==================================================================================================\n",
      "Total params: 1962625 (7.49 MB)\n",
      "Trainable params: 1962625 (7.49 MB)\n",
      "Non-trainable params: 0 (0.00 Byte)\n",
      "__________________________________________________________________________________________________\n"
     ]
    }
   ],
   "source": [
    "input = keras.layers.Input((128,128,3))\n",
    "conv1, pool1 = down_conv(input, 16)\n",
    "conv2, pool2 = down_conv(pool1, 32)\n",
    "conv3, pool3 = down_conv(pool2, 64)\n",
    "conv4, pool4 = down_conv(pool3, 128)\n",
    "\n",
    "bneck = bootle_neck(pool4, 256)\n",
    "\n",
    "up1 = up_conv(bneck, conv4, 128)\n",
    "up2 = up_conv(up1, conv3, 64)\n",
    "up3 = up_conv(up2, conv2, 32)\n",
    "up4 = up_conv(up3, conv1, 16)\n",
    "\n",
    "output = reduce_layers(up4)\n",
    "\n",
    "model = keras.models.Model(input, output)\n",
    "\n",
    "opt = keras.optimizers.Adam(learning_rate=0.001)\n",
    "model.compile(optimizer=opt, loss=\"binary_crossentropy\", metrics=[\"accuracy\"])\n",
    "model.summary()"
   ]
  },
  {
   "cell_type": "code",
   "execution_count": 60,
   "metadata": {},
   "outputs": [],
   "source": [
    "images = np.array(images)\n",
    "masks = np.array(masks)\n",
    "images = images/255.\n",
    "masks = masks/255."
   ]
  },
  {
   "cell_type": "code",
   "execution_count": 56,
   "metadata": {
    "colab": {
     "base_uri": "https://localhost:8080/",
     "height": 451
    },
    "id": "kNoxqHbF7maH",
    "outputId": "d159b444-3e80-4eb0-dab6-bb71ae0713c4"
   },
   "outputs": [
    {
     "name": "stdout",
     "output_type": "stream",
     "text": [
      "Epoch 1/5\n",
      "5/5 [==============================] - 13s 3s/step - loss: 144392208.0000 - accuracy: 0.0078 - val_loss: -87033695436800.0000 - val_accuracy: 0.0231\n",
      "Epoch 2/5\n",
      "5/5 [==============================] - 14s 3s/step - loss: 1281858.2500 - accuracy: 0.3518 - val_loss: 165532368109568.0000 - val_accuracy: 0.8521\n",
      "Epoch 3/5\n",
      "5/5 [==============================] - 13s 3s/step - loss: 12.3093 - accuracy: 0.8512 - val_loss: 605888553418752.0000 - val_accuracy: 0.8588\n",
      "Epoch 4/5\n",
      "5/5 [==============================] - 13s 3s/step - loss: 5.3647 - accuracy: 0.8526 - val_loss: 1006779659976704.0000 - val_accuracy: 0.8588\n",
      "Epoch 5/5\n",
      "5/5 [==============================] - 12s 2s/step - loss: 4.2138 - accuracy: 0.8526 - val_loss: 1270774254010368.0000 - val_accuracy: 0.8588\n"
     ]
    },
    {
     "data": {
      "text/plain": [
       "<keras.src.callbacks.History at 0x22601067250>"
      ]
     },
     "execution_count": 56,
     "metadata": {},
     "output_type": "execute_result"
    }
   ],
   "source": [
    "model.fit(images, masks, epochs=5, validation_split=0.2)"
   ]
  },
  {
   "cell_type": "code",
   "execution_count": 51,
   "metadata": {
    "colab": {
     "base_uri": "https://localhost:8080/",
     "height": 581
    },
    "id": "raXuA0QGe2SU",
    "outputId": "26566f2f-8bc6-414b-8903-d3fdfd4eef87"
   },
   "outputs": [],
   "source": []
  },
  {
   "cell_type": "code",
   "execution_count": null,
   "metadata": {
    "id": "TdbY5YMA3onb"
   },
   "outputs": [],
   "source": []
  },
  {
   "cell_type": "code",
   "execution_count": null,
   "metadata": {},
   "outputs": [],
   "source": []
  },
  {
   "cell_type": "code",
   "execution_count": null,
   "metadata": {},
   "outputs": [],
   "source": []
  },
  {
   "cell_type": "code",
   "execution_count": null,
   "metadata": {},
   "outputs": [],
   "source": []
  }
 ],
 "metadata": {
  "accelerator": "GPU",
  "colab": {
   "gpuType": "T4",
   "provenance": []
  },
  "kernelspec": {
   "display_name": "Python 3 (ipykernel)",
   "language": "python",
   "name": "python3"
  },
  "language_info": {
   "codemirror_mode": {
    "name": "ipython",
    "version": 3
   },
   "file_extension": ".py",
   "mimetype": "text/x-python",
   "name": "python",
   "nbconvert_exporter": "python",
   "pygments_lexer": "ipython3",
   "version": "3.11.4"
  }
 },
 "nbformat": 4,
 "nbformat_minor": 1
}
