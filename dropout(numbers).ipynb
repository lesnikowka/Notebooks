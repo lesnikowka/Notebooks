{
  "nbformat": 4,
  "nbformat_minor": 0,
  "metadata": {
    "colab": {
      "provenance": []
    },
    "kernelspec": {
      "name": "python3",
      "display_name": "Python 3"
    },
    "language_info": {
      "name": "python"
    }
  },
  "cells": [
    {
      "cell_type": "code",
      "execution_count": null,
      "metadata": {
        "id": "K9-NhdBO-wNQ"
      },
      "outputs": [],
      "source": [
        "import numpy as np\n",
        "import matplotlib.pyplot as plt\n",
        "from tensorflow import keras\n",
        "from tensorflow.keras.datasets import mnist\n",
        "from tensorflow.keras.layers import Dense, Flatten\n",
        "%matplotlib inline\n",
        "import sklearn\n",
        "from sklearn import model_selection"
      ]
    },
    {
      "cell_type": "code",
      "source": [
        "(x_train, y_train), (x_test, y_test) = mnist.load_data()\n",
        "\n",
        "size = 5000\n",
        "\n",
        "x_train = x_train[:size]\n",
        "y_train = y_train[:size]\n",
        "\n",
        "x_train_split, x_val_split, y_train_split, y_val_split = sklearn.model_selection.train_test_split(x_train, y_train, test_size = 0.2)\n",
        "\n",
        "x_train_split = x_train_split / 255\n",
        "x_test = x_test /  255\n",
        "x_val_split = x_val_split / 255\n"
      ],
      "metadata": {
        "id": "cpAm0v3x_iDI",
        "colab": {
          "base_uri": "https://localhost:8080/"
        },
        "outputId": "f09cd737-5a89-4355-c87e-d7def6e1e078"
      },
      "execution_count": null,
      "outputs": [
        {
          "output_type": "stream",
          "name": "stdout",
          "text": [
            "Downloading data from https://storage.googleapis.com/tensorflow/tf-keras-datasets/mnist.npz\n",
            "11490434/11490434 [==============================] - 0s 0us/step\n"
          ]
        }
      ]
    },
    {
      "cell_type": "code",
      "source": [
        "y_train_split_cat = keras.utils.to_categorical(y_train_split, 10)\n",
        "y_test_cat = keras.utils.to_categorical(y_test, 10)\n",
        "\n",
        "y_val_split_cat = keras.utils.to_categorical(y_val_split, 10)"
      ],
      "metadata": {
        "id": "oy6hRGAZB69p"
      },
      "execution_count": null,
      "outputs": []
    },
    {
      "cell_type": "code",
      "source": [
        "model = keras.Sequential([\n",
        "    Flatten(input_shape=(28, 28, 1)),\n",
        "    Dense(100, activation='relu'),\n",
        "    Dense(10, activation='softmax')\n",
        "])\n",
        "\n",
        "print(model.summary())"
      ],
      "metadata": {
        "colab": {
          "base_uri": "https://localhost:8080/"
        },
        "id": "QH1hFnz2CM9W",
        "outputId": "b0a5d043-ef38-4761-ecbe-647cfca6766d"
      },
      "execution_count": null,
      "outputs": [
        {
          "output_type": "stream",
          "name": "stdout",
          "text": [
            "Model: \"sequential_7\"\n",
            "_________________________________________________________________\n",
            " Layer (type)                Output Shape              Param #   \n",
            "=================================================================\n",
            " flatten_7 (Flatten)         (None, 784)               0         \n",
            "                                                                 \n",
            " dense_16 (Dense)            (None, 100)               78500     \n",
            "                                                                 \n",
            " dense_17 (Dense)            (None, 10)                1010      \n",
            "                                                                 \n",
            "=================================================================\n",
            "Total params: 79,510\n",
            "Trainable params: 79,510\n",
            "Non-trainable params: 0\n",
            "_________________________________________________________________\n",
            "None\n"
          ]
        }
      ]
    },
    {
      "cell_type": "code",
      "source": [
        "my_optimizer = keras.optimizers.Adam(learning_rate = 0.1)\n",
        "my_optimizer_2 = keras.optimizers.SGD(learning_rate = 0.1, nesterov=True, momentum=0.0)\n",
        "model.compile(optimizer=my_optimizer_2, loss='categorical_crossentropy', metrics=['accuracy'])"
      ],
      "metadata": {
        "id": "4too2cgSFOAS"
      },
      "execution_count": null,
      "outputs": []
    },
    {
      "cell_type": "code",
      "source": [
        "model.fit(x_train_split, y_train_split_cat, validation_data= (x_val_split, y_val_split_cat) , batch_size=32, epochs=5)\n",
        "# можно написать validation_data = .., train_data = ..."
      ],
      "metadata": {
        "colab": {
          "base_uri": "https://localhost:8080/"
        },
        "id": "gwxFb8wNGRts",
        "outputId": "e3d917f1-f57c-4cbe-8b12-1308c1a1e4d9"
      },
      "execution_count": null,
      "outputs": [
        {
          "output_type": "stream",
          "name": "stdout",
          "text": [
            "Epoch 1/5\n",
            "1500/1500 [==============================] - 5s 3ms/step - loss: 0.3280 - accuracy: 0.9049 - val_loss: 0.2044 - val_accuracy: 0.9423\n",
            "Epoch 2/5\n",
            "1500/1500 [==============================] - 5s 3ms/step - loss: 0.1634 - accuracy: 0.9522 - val_loss: 0.1524 - val_accuracy: 0.9549\n",
            "Epoch 3/5\n",
            "1500/1500 [==============================] - 5s 3ms/step - loss: 0.1195 - accuracy: 0.9650 - val_loss: 0.1290 - val_accuracy: 0.9619\n",
            "Epoch 4/5\n",
            "1500/1500 [==============================] - 4s 3ms/step - loss: 0.0954 - accuracy: 0.9715 - val_loss: 0.1145 - val_accuracy: 0.9647\n",
            "Epoch 5/5\n",
            "1500/1500 [==============================] - 4s 3ms/step - loss: 0.0790 - accuracy: 0.9766 - val_loss: 0.1051 - val_accuracy: 0.9690\n"
          ]
        },
        {
          "output_type": "execute_result",
          "data": {
            "text/plain": [
              "<keras.callbacks.History at 0x7e5418628f40>"
            ]
          },
          "metadata": {},
          "execution_count": 68
        }
      ]
    },
    {
      "cell_type": "code",
      "source": [
        "model.evaluate(x_test, y_test_cat)"
      ],
      "metadata": {
        "colab": {
          "base_uri": "https://localhost:8080/"
        },
        "id": "lhSskRmdI2bo",
        "outputId": "25e421e0-b5c0-4353-d0bb-d07f81c3727e"
      },
      "execution_count": null,
      "outputs": [
        {
          "output_type": "stream",
          "name": "stdout",
          "text": [
            "313/313 [==============================] - 1s 2ms/step - loss: 0.1104 - accuracy: 0.9748\n"
          ]
        },
        {
          "output_type": "execute_result",
          "data": {
            "text/plain": [
              "[0.11036953330039978, 0.9747999906539917]"
            ]
          },
          "metadata": {},
          "execution_count": 10
        }
      ]
    },
    {
      "cell_type": "markdown",
      "source": [
        "validation split разделение обуччающей выборки на обучающую и валидирующую\n"
      ],
      "metadata": {
        "id": "LiraRsq_GkFT"
      }
    },
    {
      "cell_type": "code",
      "source": [
        "n = 140\n",
        "x = np.expand_dims(x_test[n], axis=0)\n",
        "res = model.predict(x)\n",
        "print(res)\n",
        "print(f'number: {np.argmax(res)}')\n",
        "#plt.imshow(x_test[n], cmap=plt.cm.binary)\n",
        "#plt.show()"
      ],
      "metadata": {
        "colab": {
          "base_uri": "https://localhost:8080/"
        },
        "id": "qm6EYJdoJCsF",
        "outputId": "488e1b0f-d202-4f5a-f66c-04054fd46ab1"
      },
      "execution_count": null,
      "outputs": [
        {
          "output_type": "stream",
          "name": "stdout",
          "text": [
            "1/1 [==============================] - 0s 24ms/step\n",
            "[[1.9596155e-05 2.5213318e-05 1.2219625e-07 1.5876684e-09 2.9888135e-06\n",
            "  6.5455833e-07 9.9994886e-01 1.1177255e-08 2.6170326e-06 5.6939314e-08]]\n",
            "number: 6\n"
          ]
        }
      ]
    },
    {
      "cell_type": "code",
      "source": [
        "pred = model.predict(x_test)\n",
        "pred = np.argmax(pred, axis=1)\n",
        "\n",
        "print(pred.shape)\n",
        "\n",
        "l = 100\n",
        "r = 110\n",
        "\n",
        "print(pred[l:r])\n",
        "print(y_test[l:r])\n"
      ],
      "metadata": {
        "colab": {
          "base_uri": "https://localhost:8080/"
        },
        "id": "IAwEpcLGK1Rw",
        "outputId": "8a626ad8-e287-4a27-c84c-c1f0c4886dce"
      },
      "execution_count": null,
      "outputs": [
        {
          "output_type": "stream",
          "name": "stdout",
          "text": [
            "313/313 [==============================] - 0s 1ms/step\n",
            "(10000,)\n",
            "[6 0 5 4 9 9 2 1 9 4]\n",
            "[6 0 5 4 9 9 2 1 9 4]\n"
          ]
        }
      ]
    },
    {
      "cell_type": "code",
      "source": [
        "mask = pred == y_test\n",
        "\n",
        "print(mask[:5])\n",
        "\n",
        "mask = ~mask\n",
        "\n",
        "x_false = x_test[mask]\n",
        "p_false = pred[mask]\n",
        "y_false = y_test[mask]\n",
        "\n",
        "print(x_false.shape)\n",
        "\n",
        "\n"
      ],
      "metadata": {
        "colab": {
          "base_uri": "https://localhost:8080/"
        },
        "id": "poqIrhSdMBsY",
        "outputId": "04519690-2df7-4473-980a-b40e9e92ce1f"
      },
      "execution_count": null,
      "outputs": [
        {
          "output_type": "stream",
          "name": "stdout",
          "text": [
            "[ True  True  True  True  True]\n",
            "(252, 28, 28)\n"
          ]
        }
      ]
    },
    {
      "cell_type": "code",
      "source": [
        "num_false = 1\n",
        "\n",
        "for i in range(num_false):\n",
        "  print(f'Result: {p_false[i]}')\n",
        "  print(f'Correct: {y_false[i]}')\n",
        "  plt.imshow(x_false[i], cmap=plt.cm.binary)\n",
        "  plt.show()"
      ],
      "metadata": {
        "colab": {
          "base_uri": "https://localhost:8080/",
          "height": 466
        },
        "id": "xuK5B-jbNJ2a",
        "outputId": "d457f916-84d1-40aa-d4de-2751ef967142"
      },
      "execution_count": null,
      "outputs": [
        {
          "output_type": "stream",
          "name": "stdout",
          "text": [
            "Result: 2\n",
            "Correct: 3\n"
          ]
        },
        {
          "output_type": "display_data",
          "data": {
            "text/plain": [
              "<Figure size 640x480 with 1 Axes>"
            ],
            "image/png": "[encoded data removed]"
          },
          "metadata": {}
        }
      ]
    },
    {
      "cell_type": "code",
      "source": [],
      "metadata": {
        "id": "qoDvSSaGEvIQ"
      },
      "execution_count": null,
      "outputs": []
    }
  ]
}