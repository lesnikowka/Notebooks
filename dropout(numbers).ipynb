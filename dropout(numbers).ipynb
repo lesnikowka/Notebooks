{
  "nbformat": 4,
  "nbformat_minor": 0,
  "metadata": {
    "colab": {
      "provenance": []
    },
    "kernelspec": {
      "name": "python3",
      "display_name": "Python 3"
    },
    "language_info": {
      "name": "python"
    }
  },
  "cells": [
    {
      "cell_type": "code",
      "execution_count": null,
      "metadata": {
        "id": "K9-NhdBO-wNQ"
      },
      "outputs": [],
      "source": [
        "import numpy as np\n",
        "import matplotlib.pyplot as plt\n",
        "from tensorflow import keras\n",
        "from tensorflow.keras.datasets import mnist\n",
        "from tensorflow.keras.layers import Dense, Flatten, Dropout, BatchNormalization\n",
        "%matplotlib inline\n",
        "import sklearn\n",
        "from sklearn import model_selection"
      ]
    },
    {
      "cell_type": "code",
      "source": [
        "(x_train, y_train), (x_test, y_test) = mnist.load_data()\n",
        "\n",
        "n = 5000\n",
        "\n",
        "x_train = x_train[:n]\n",
        "y_train = y_train[:n]\n",
        "\n",
        "x_train_split, x_val_split, y_train_split, y_val_split = sklearn.model_selection.train_test_split(x_train, y_train, test_size = 0.2)\n",
        "\n",
        "x_train_split = x_train_split / 255\n",
        "x_test = x_test /  255\n",
        "x_val_split = x_val_split / 255\n"
      ],
      "metadata": {
        "id": "cpAm0v3x_iDI"
      },
      "execution_count": null,
      "outputs": []
    },
    {
      "cell_type": "code",
      "source": [
        "y_train_split_cat = keras.utils.to_categorical(y_train_split, 10)\n",
        "y_test_cat = keras.utils.to_categorical(y_test, 10)\n",
        "\n",
        "y_val_split_cat = keras.utils.to_categorical(y_val_split, 10)"
      ],
      "metadata": {
        "id": "oy6hRGAZB69p"
      },
      "execution_count": null,
      "outputs": []
    },
    {
      "cell_type": "code",
      "source": [
        "model = keras.Sequential([\n",
        "    Flatten(input_shape=(28, 28, 1)),\n",
        "    Dense(250, activation='relu'),\n",
        "    Dropout(0.8),\n",
        "    BatchNormalization(),\n",
        "    Dense(10, activation='softmax')\n",
        "])\n",
        "\n",
        "print(model.summary())"
      ],
      "metadata": {
        "id": "QH1hFnz2CM9W",
        "colab": {
          "base_uri": "https://localhost:8080/"
        },
        "outputId": "05080c51-6503-4817-dcaf-05dd3aad147c"
      },
      "execution_count": null,
      "outputs": [
        {
          "output_type": "stream",
          "name": "stdout",
          "text": [
            "Model: \"sequential_4\"\n",
            "_________________________________________________________________\n",
            " Layer (type)                Output Shape              Param #   \n",
            "=================================================================\n",
            " flatten_4 (Flatten)         (None, 784)               0         \n",
            "                                                                 \n",
            " dense_13 (Dense)            (None, 250)               196250    \n",
            "                                                                 \n",
            " dropout_5 (Dropout)         (None, 250)               0         \n",
            "                                                                 \n",
            " batch_normalization_4 (Bat  (None, 250)               1000      \n",
            " chNormalization)                                                \n",
            "                                                                 \n",
            " dense_14 (Dense)            (None, 10)                2510      \n",
            "                                                                 \n",
            "=================================================================\n",
            "Total params: 199760 (780.31 KB)\n",
            "Trainable params: 199260 (778.36 KB)\n",
            "Non-trainable params: 500 (1.95 KB)\n",
            "_________________________________________________________________\n",
            "None\n"
          ]
        }
      ]
    },
    {
      "cell_type": "code",
      "source": [
        "my_optimizer = keras.optimizers.Adam(learning_rate = 0.1)\n",
        "my_optimizer_2 = keras.optimizers.SGD(learning_rate = 0.1, nesterov=True, momentum=0.0)\n",
        "model.compile(optimizer=my_optimizer_2, loss='categorical_crossentropy', metrics=['accuracy'])"
      ],
      "metadata": {
        "id": "4too2cgSFOAS"
      },
      "execution_count": null,
      "outputs": []
    },
    {
      "cell_type": "code",
      "source": [
        "history = model.fit(x_train_split, y_train_split_cat, validation_data= (x_val_split, y_val_split_cat) , batch_size=32, epochs=30, verbose=False)\n",
        "# можно написать validation_data = .., train_data = ..."
      ],
      "metadata": {
        "id": "gwxFb8wNGRts"
      },
      "execution_count": null,
      "outputs": []
    },
    {
      "cell_type": "code",
      "source": [
        "train_loss = history.history['loss']\n",
        "val_loss = history.history['val_loss']\n",
        "\n",
        "plt.plot(train_loss, color=(1,0,0))\n",
        "plt.plot(val_loss, color=(0,0,1))\n",
        "plt.show()"
      ],
      "metadata": {
        "colab": {
          "base_uri": "https://localhost:8080/",
          "height": 433
        },
        "id": "IQ_f78QrTNt9",
        "outputId": "7686f8de-3542-46e3-a544-37f97a78f62b"
      },
      "execution_count": null,
      "outputs": [
        {
          "output_type": "display_data",
          "data": {
            "text/plain": [
              "<Figure size 640x480 with 1 Axes>"
            ],
            "image/png": "[encoded data removed]"
          },
          "metadata": {}
        }
      ]
    },
    {
      "cell_type": "code",
      "source": [
        "model.evaluate(x_test, y_test_cat)"
      ],
      "metadata": {
        "colab": {
          "base_uri": "https://localhost:8080/"
        },
        "id": "lhSskRmdI2bo",
        "outputId": "c09f56c1-3062-4b57-f028-778800b5db61"
      },
      "execution_count": null,
      "outputs": [
        {
          "output_type": "stream",
          "name": "stdout",
          "text": [
            "313/313 [==============================] - 1s 3ms/step - loss: 2.3006 - accuracy: 0.0593\n"
          ]
        },
        {
          "output_type": "execute_result",
          "data": {
            "text/plain": [
              "[2.3006041049957275, 0.059300001710653305]"
            ]
          },
          "metadata": {},
          "execution_count": 22
        }
      ]
    },
    {
      "cell_type": "markdown",
      "source": [
        "validation split разделение обуччающей выборки на обучающую и валидирующую\n"
      ],
      "metadata": {
        "id": "LiraRsq_GkFT"
      }
    },
    {
      "cell_type": "code",
      "source": [
        "n = 140\n",
        "x = np.expand_dims(x_test[n], axis=0)\n",
        "res = model.predict(x)\n",
        "print(res)\n",
        "print(f'number: {np.argmax(res)}')\n",
        "#plt.imshow(x_test[n], cmap=plt.cm.binary)\n",
        "#plt.show()"
      ],
      "metadata": {
        "colab": {
          "base_uri": "https://localhost:8080/"
        },
        "id": "qm6EYJdoJCsF",
        "outputId": "e53870f2-b53d-409f-835c-d534067b1054"
      },
      "execution_count": null,
      "outputs": [
        {
          "output_type": "stream",
          "name": "stdout",
          "text": [
            "1/1 [==============================] - 0s 68ms/step\n",
            "[[0.10413766 0.08956584 0.09585977 0.12392872 0.08984059 0.10161745\n",
            "  0.10645258 0.10430412 0.0927799  0.0915134 ]]\n",
            "number: 3\n"
          ]
        }
      ]
    },
    {
      "cell_type": "code",
      "source": [
        "pred = model.predict(x_test)\n",
        "pred = np.argmax(pred, axis=1)\n",
        "\n",
        "print(pred.shape)\n",
        "\n",
        "l = 100\n",
        "r = 110\n",
        "\n",
        "print(pred[l:r])\n",
        "print(y_test[l:r])\n"
      ],
      "metadata": {
        "colab": {
          "base_uri": "https://localhost:8080/"
        },
        "id": "IAwEpcLGK1Rw",
        "outputId": "abc60f0b-ded7-4504-ab9c-f844069be6c1"
      },
      "execution_count": null,
      "outputs": [
        {
          "output_type": "stream",
          "name": "stdout",
          "text": [
            "313/313 [==============================] - 1s 2ms/step\n",
            "(10000,)\n",
            "[6 1 3 9 3 3 3 5 3 3]\n",
            "[6 0 5 4 9 9 2 1 9 4]\n"
          ]
        }
      ]
    },
    {
      "cell_type": "code",
      "source": [
        "mask = pred == y_test\n",
        "\n",
        "print(mask[:5])\n",
        "\n",
        "mask = ~mask\n",
        "\n",
        "x_false = x_test[mask]\n",
        "p_false = pred[mask]\n",
        "y_false = y_test[mask]\n",
        "\n",
        "print(x_false.shape)\n",
        "\n",
        "print(mask[mask==False].shape[0]/mask.shape[0])\n",
        "\n"
      ],
      "metadata": {
        "colab": {
          "base_uri": "https://localhost:8080/"
        },
        "id": "poqIrhSdMBsY",
        "outputId": "23952c39-f5f0-4219-da01-3c68dbfba7cd"
      },
      "execution_count": null,
      "outputs": [
        {
          "output_type": "stream",
          "name": "stdout",
          "text": [
            "[False False False False False]\n",
            "(9407, 28, 28)\n",
            "0.0593\n"
          ]
        }
      ]
    },
    {
      "cell_type": "code",
      "source": [
        "num_false = 1\n",
        "\n",
        "for i in range(num_false):\n",
        "  print(f'Result: {p_false[i]}')\n",
        "  print(f'Correct: {y_false[i]}')\n",
        "  plt.imshow(x_false[i], cmap=plt.cm.binary)\n",
        "  plt.show()"
      ],
      "metadata": {
        "colab": {
          "base_uri": "https://localhost:8080/",
          "height": 465
        },
        "id": "xuK5B-jbNJ2a",
        "outputId": "1db0883c-0509-4cda-8fb1-fdae0aaee7ec"
      },
      "execution_count": null,
      "outputs": [
        {
          "output_type": "stream",
          "name": "stdout",
          "text": [
            "Result: 1\n",
            "Correct: 7\n"
          ]
        },
        {
          "output_type": "display_data",
          "data": {
            "text/plain": [
              "<Figure size 640x480 with 1 Axes>"
            ],
            "image/png": "[encoded data removed]"
          },
          "metadata": {}
        }
      ]
    },
    {
      "cell_type": "code",
      "source": [],
      "metadata": {
        "id": "yfsFDQ9omkpx"
      },
      "execution_count": null,
      "outputs": []
    }
  ]
}