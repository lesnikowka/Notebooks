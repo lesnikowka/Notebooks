{
  "nbformat": 4,
  "nbformat_minor": 0,
  "metadata": {
    "colab": {
      "provenance": [],
      "gpuType": "T4"
    },
    "kernelspec": {
      "name": "python3",
      "display_name": "Python 3"
    },
    "language_info": {
      "name": "python"
    },
    "accelerator": "GPU"
  },
  "cells": [
    {
      "cell_type": "code",
      "execution_count": 10,
      "metadata": {
        "colab": {
          "base_uri": "https://localhost:8080/",
          "height": 34
        },
        "id": "AezK_K-PzR8c",
        "outputId": "e50e840c-d933-4a08-8aa9-2be1aa5321d1"
      },
      "outputs": [
        {
          "output_type": "display_data",
          "data": {
            "application/javascript": [
              "IPython.notebook.set_autosave_interval(20000)"
            ]
          },
          "metadata": {}
        },
        {
          "output_type": "stream",
          "name": "stdout",
          "text": [
            "Autosaving every 20 seconds\n"
          ]
        }
      ],
      "source": [
        "%autosave 20\n",
        "\n",
        "import os\n",
        "import sys\n",
        "import random\n",
        "import numpy as np\n",
        "import cv2\n",
        "from matplotlib import pyplot as plt\n",
        "import tensorflow as tf\n",
        "from tensorflow import keras\n",
        "from keras.layers import Conv2D\n",
        "from keras.layers import MaxPool2D\n",
        "from keras.layers import UpSampling2D\n",
        "from keras.layers import Concatenate\n",
        "from google.colab import drive\n",
        "import cv2"
      ]
    },
    {
      "cell_type": "code",
      "source": [
        "drive.mount('/content/drive/')\n",
        "dataset_folder = 'drive/MyDrive/datasets/EndoTect_2020_Segmentation_Test_Dataset'\n",
        "\n",
        "def load_data(folder):\n",
        "  imgs = []\n",
        "  msks = []\n",
        "\n",
        "  for fname in os.listdir(folder + \"/images\"):\n",
        "    img = cv2.imread(os.path.join(folder + \"/images\", fname))\n",
        "    msk = cv2.imread(os.path.join(folder + \"/masks\", fname[:-3] + \"png\"), 0)\n",
        "\n",
        "    if img is not None and msk is not None:\n",
        "      imgs.append(img)\n",
        "      msks.append(msk)\n",
        "\n",
        "\n",
        "  return [imgs, msks]"
      ],
      "metadata": {
        "colab": {
          "base_uri": "https://localhost:8080/"
        },
        "id": "0Xsso72uQ8KR",
        "outputId": "5e83fadc-3ec6-4be0-ef5c-ef7f6a141019"
      },
      "execution_count": 11,
      "outputs": [
        {
          "output_type": "stream",
          "name": "stdout",
          "text": [
            "Drive already mounted at /content/drive/; to attempt to forcibly remount, call drive.mount(\"/content/drive/\", force_remount=True).\n"
          ]
        }
      ]
    },
    {
      "cell_type": "code",
      "source": [
        "images, masks = load_data(dataset_folder)\n",
        "\n",
        "print(len(images), len(masks))"
      ],
      "metadata": {
        "colab": {
          "base_uri": "https://localhost:8080/"
        },
        "id": "NJerVVUlb51e",
        "outputId": "62c903ac-cc88-4133-d011-51050902515f"
      },
      "execution_count": 12,
      "outputs": [
        {
          "output_type": "stream",
          "name": "stdout",
          "text": [
            "200 200\n"
          ]
        }
      ]
    },
    {
      "cell_type": "code",
      "source": [
        "for i in range(len(images)):\n",
        "  images[i] = cv2.resize(images[i], (128,128))\n",
        "  masks[i] = cv2.resize(masks[i], (128,128))\n",
        "  mask_ = []\n",
        "  for j in range(128):\n",
        "    mask_row = []\n",
        "    for k in range(128):\n",
        "      mask_row.append([masks[i][j,k]])\n",
        "    mask_.append(mask_row)\n",
        "  mask__ = np.array(mask_)\n",
        "  masks[i] = mask__"
      ],
      "metadata": {
        "id": "pDS6IIJfccSl"
      },
      "execution_count": 13,
      "outputs": []
    },
    {
      "cell_type": "code",
      "source": [
        "for mask in masks:\n",
        "  mask_ = np.zeros((128,128,1))\n",
        "  mask = np.maximum(mask, mask_)"
      ],
      "metadata": {
        "id": "xQsOT3cu2QXk"
      },
      "execution_count": 14,
      "outputs": []
    },
    {
      "cell_type": "code",
      "source": [
        "def down_conv(prev_layer, num_layers,  kernel_size=(3,3), padding=\"same\", strides=1, activation=\"relu\"):\n",
        "  conv = Conv2D(num_layers, kernel_size, padding=padding, strides=strides, activation=activation)(prev_layer)\n",
        "  conv = Conv2D(num_layers, kernel_size, padding=padding, strides=strides, activation=activation)(conv)\n",
        "  pool = MaxPool2D((2,2), (2,2))(conv)\n",
        "\n",
        "  return [conv, pool]\n",
        "\n",
        "def up_conv(prev_layer, skip_layer, num_layers,  kernel_size=(3,3), padding=\"same\", strides=1, activation=\"relu\"):\n",
        "  upsamp = UpSampling2D((2,2))(prev_layer)\n",
        "  conc = Concatenate()([upsamp, skip_layer])\n",
        "  conv = Conv2D(num_layers, kernel_size, padding=padding, strides=strides, activation=activation)(conc)\n",
        "  conv = Conv2D(num_layers, kernel_size, padding=padding, strides=strides, activation=activation)(conv)\n",
        "\n",
        "  return conv\n",
        "\n",
        "def bootle_neck(prev_layer, num_layers,  kernel_size=(3,3), padding=\"same\", strides=1, activation=\"relu\"):\n",
        "  conv = Conv2D(num_layers, kernel_size, padding=padding, strides=strides, activation=activation)(prev_layer)\n",
        "  conv = Conv2D(num_layers, kernel_size, padding=padding, strides=strides, activation=activation)(conv)\n",
        "\n",
        "  return conv\n",
        "\n",
        "def reduce_layers(layer):\n",
        "  return Conv2D(1, (1,1), padding=\"same\", activation=\"sigmoid\")(layer)"
      ],
      "metadata": {
        "id": "pc9-QNaf1f2y"
      },
      "execution_count": 15,
      "outputs": []
    },
    {
      "cell_type": "code",
      "source": [
        "input = keras.layers.Input((128,128,3))\n",
        "conv1, pool1 = down_conv(input, 16)\n",
        "conv2, pool2 = down_conv(pool1, 32)\n",
        "conv3, pool3 = down_conv(pool2, 64)\n",
        "conv4, pool4 = down_conv(pool3, 128)\n",
        "\n",
        "bneck = bootle_neck(pool4, 256)\n",
        "\n",
        "up1 = up_conv(bneck, conv4, 128)\n",
        "up2 = up_conv(up1, conv3, 64)\n",
        "up3 = up_conv(up2, conv2, 32)\n",
        "up4 = up_conv(up3, conv1, 16)\n",
        "\n",
        "output = reduce_layers(up4)\n",
        "\n",
        "model = keras.models.Model(input, output)\n",
        "\n",
        "opt = keras.optimizers.Adam(learning_rate=0.001)\n",
        "model.compile(optimizer=opt, loss=\"binary_crossentropy\", metrics=[\"accuracy\"])\n",
        "model.summary()"
      ],
      "metadata": {
        "colab": {
          "base_uri": "https://localhost:8080/"
        },
        "id": "xXS4t0C-5OLu",
        "outputId": "dc20f454-b6b1-4a4c-fba1-d7e4d2bb4854"
      },
      "execution_count": 16,
      "outputs": [
        {
          "output_type": "stream",
          "name": "stdout",
          "text": [
            "Model: \"model\"\n",
            "__________________________________________________________________________________________________\n",
            " Layer (type)                Output Shape                 Param #   Connected to                  \n",
            "==================================================================================================\n",
            " input_1 (InputLayer)        [(None, 128, 128, 3)]        0         []                            \n",
            "                                                                                                  \n",
            " conv2d (Conv2D)             (None, 128, 128, 16)         448       ['input_1[0][0]']             \n",
            "                                                                                                  \n",
            " conv2d_1 (Conv2D)           (None, 128, 128, 16)         2320      ['conv2d[0][0]']              \n",
            "                                                                                                  \n",
            " max_pooling2d (MaxPooling2  (None, 64, 64, 16)           0         ['conv2d_1[0][0]']            \n",
            " D)                                                                                               \n",
            "                                                                                                  \n",
            " conv2d_2 (Conv2D)           (None, 64, 64, 32)           4640      ['max_pooling2d[0][0]']       \n",
            "                                                                                                  \n",
            " conv2d_3 (Conv2D)           (None, 64, 64, 32)           9248      ['conv2d_2[0][0]']            \n",
            "                                                                                                  \n",
            " max_pooling2d_1 (MaxPoolin  (None, 32, 32, 32)           0         ['conv2d_3[0][0]']            \n",
            " g2D)                                                                                             \n",
            "                                                                                                  \n",
            " conv2d_4 (Conv2D)           (None, 32, 32, 64)           18496     ['max_pooling2d_1[0][0]']     \n",
            "                                                                                                  \n",
            " conv2d_5 (Conv2D)           (None, 32, 32, 64)           36928     ['conv2d_4[0][0]']            \n",
            "                                                                                                  \n",
            " max_pooling2d_2 (MaxPoolin  (None, 16, 16, 64)           0         ['conv2d_5[0][0]']            \n",
            " g2D)                                                                                             \n",
            "                                                                                                  \n",
            " conv2d_6 (Conv2D)           (None, 16, 16, 128)          73856     ['max_pooling2d_2[0][0]']     \n",
            "                                                                                                  \n",
            " conv2d_7 (Conv2D)           (None, 16, 16, 128)          147584    ['conv2d_6[0][0]']            \n",
            "                                                                                                  \n",
            " max_pooling2d_3 (MaxPoolin  (None, 8, 8, 128)            0         ['conv2d_7[0][0]']            \n",
            " g2D)                                                                                             \n",
            "                                                                                                  \n",
            " conv2d_8 (Conv2D)           (None, 8, 8, 256)            295168    ['max_pooling2d_3[0][0]']     \n",
            "                                                                                                  \n",
            " conv2d_9 (Conv2D)           (None, 8, 8, 256)            590080    ['conv2d_8[0][0]']            \n",
            "                                                                                                  \n",
            " up_sampling2d (UpSampling2  (None, 16, 16, 256)          0         ['conv2d_9[0][0]']            \n",
            " D)                                                                                               \n",
            "                                                                                                  \n",
            " concatenate (Concatenate)   (None, 16, 16, 384)          0         ['up_sampling2d[0][0]',       \n",
            "                                                                     'conv2d_7[0][0]']            \n",
            "                                                                                                  \n",
            " conv2d_10 (Conv2D)          (None, 16, 16, 128)          442496    ['concatenate[0][0]']         \n",
            "                                                                                                  \n",
            " conv2d_11 (Conv2D)          (None, 16, 16, 128)          147584    ['conv2d_10[0][0]']           \n",
            "                                                                                                  \n",
            " up_sampling2d_1 (UpSamplin  (None, 32, 32, 128)          0         ['conv2d_11[0][0]']           \n",
            " g2D)                                                                                             \n",
            "                                                                                                  \n",
            " concatenate_1 (Concatenate  (None, 32, 32, 192)          0         ['up_sampling2d_1[0][0]',     \n",
            " )                                                                   'conv2d_5[0][0]']            \n",
            "                                                                                                  \n",
            " conv2d_12 (Conv2D)          (None, 32, 32, 64)           110656    ['concatenate_1[0][0]']       \n",
            "                                                                                                  \n",
            " conv2d_13 (Conv2D)          (None, 32, 32, 64)           36928     ['conv2d_12[0][0]']           \n",
            "                                                                                                  \n",
            " up_sampling2d_2 (UpSamplin  (None, 64, 64, 64)           0         ['conv2d_13[0][0]']           \n",
            " g2D)                                                                                             \n",
            "                                                                                                  \n",
            " concatenate_2 (Concatenate  (None, 64, 64, 96)           0         ['up_sampling2d_2[0][0]',     \n",
            " )                                                                   'conv2d_3[0][0]']            \n",
            "                                                                                                  \n",
            " conv2d_14 (Conv2D)          (None, 64, 64, 32)           27680     ['concatenate_2[0][0]']       \n",
            "                                                                                                  \n",
            " conv2d_15 (Conv2D)          (None, 64, 64, 32)           9248      ['conv2d_14[0][0]']           \n",
            "                                                                                                  \n",
            " up_sampling2d_3 (UpSamplin  (None, 128, 128, 32)         0         ['conv2d_15[0][0]']           \n",
            " g2D)                                                                                             \n",
            "                                                                                                  \n",
            " concatenate_3 (Concatenate  (None, 128, 128, 48)         0         ['up_sampling2d_3[0][0]',     \n",
            " )                                                                   'conv2d_1[0][0]']            \n",
            "                                                                                                  \n",
            " conv2d_16 (Conv2D)          (None, 128, 128, 16)         6928      ['concatenate_3[0][0]']       \n",
            "                                                                                                  \n",
            " conv2d_17 (Conv2D)          (None, 128, 128, 16)         2320      ['conv2d_16[0][0]']           \n",
            "                                                                                                  \n",
            " conv2d_18 (Conv2D)          (None, 128, 128, 1)          17        ['conv2d_17[0][0]']           \n",
            "                                                                                                  \n",
            "==================================================================================================\n",
            "Total params: 1962625 (7.49 MB)\n",
            "Trainable params: 1962625 (7.49 MB)\n",
            "Non-trainable params: 0 (0.00 Byte)\n",
            "__________________________________________________________________________________________________\n"
          ]
        }
      ]
    },
    {
      "cell_type": "code",
      "source": [
        "plt.subplot(141)\n",
        "plt.imshow(images[0])\n",
        "plt.subplot(142)\n",
        "plt.imshow(masks[0])\n",
        "\n",
        "images = np.array(images)\n",
        "masks = np.array(masks)\n",
        "images = images/255.\n",
        "masks = masks/255.\n",
        "\n",
        "plt.subplot(143)\n",
        "plt.imshow(images[0])\n",
        "plt.subplot(144)\n",
        "plt.imshow(masks[0])\n",
        "\n",
        "plt.show()\n"
      ],
      "metadata": {
        "colab": {
          "base_uri": "https://localhost:8080/",
          "height": 173
        },
        "id": "kNoxqHbF7maH",
        "outputId": "e096f5e3-54d7-4e9f-d294-944db25c87a5"
      },
      "execution_count": 17,
      "outputs": [
        {
          "output_type": "display_data",
          "data": {
            "text/plain": [
              "<Figure size 640x480 with 4 Axes>"
            ],
            "image/png": "[encoded data removed]"
          },
          "metadata": {}
        }
      ]
    },
    {
      "cell_type": "code",
      "source": [
        "model.fit(images, masks, epochs=150, validation_split=0.2)"
      ],
      "metadata": {
        "colab": {
          "base_uri": "https://localhost:8080/"
        },
        "id": "h3NP13VDHvcx",
        "outputId": "2e924ec1-c99e-413b-a392-3e87378092ab"
      },
      "execution_count": 18,
      "outputs": [
        {
          "output_type": "stream",
          "name": "stdout",
          "text": [
            "Epoch 1/150\n",
            "5/5 [==============================] - 20s 296ms/step - loss: 0.6141 - accuracy: 0.8188 - val_loss: 0.5486 - val_accuracy: 0.8447\n",
            "Epoch 2/150\n",
            "5/5 [==============================] - 0s 84ms/step - loss: 0.5771 - accuracy: 0.8562 - val_loss: 0.5658 - val_accuracy: 0.8447\n",
            "Epoch 3/150\n",
            "5/5 [==============================] - 0s 92ms/step - loss: 0.4906 - accuracy: 0.8562 - val_loss: 0.4505 - val_accuracy: 0.8447\n",
            "Epoch 4/150\n",
            "5/5 [==============================] - 0s 92ms/step - loss: 0.3841 - accuracy: 0.8562 - val_loss: 0.3560 - val_accuracy: 0.8447\n",
            "Epoch 5/150\n",
            "5/5 [==============================] - 0s 92ms/step - loss: 0.3333 - accuracy: 0.8562 - val_loss: 0.3579 - val_accuracy: 0.8447\n",
            "Epoch 6/150\n",
            "5/5 [==============================] - 0s 85ms/step - loss: 0.3350 - accuracy: 0.8562 - val_loss: 0.3400 - val_accuracy: 0.8447\n",
            "Epoch 7/150\n",
            "5/5 [==============================] - 0s 84ms/step - loss: 0.3228 - accuracy: 0.8562 - val_loss: 0.3199 - val_accuracy: 0.8447\n",
            "Epoch 8/150\n",
            "5/5 [==============================] - 0s 84ms/step - loss: 0.3121 - accuracy: 0.8562 - val_loss: 0.3144 - val_accuracy: 0.8447\n",
            "Epoch 9/150\n",
            "5/5 [==============================] - 0s 84ms/step - loss: 0.3103 - accuracy: 0.8562 - val_loss: 0.3112 - val_accuracy: 0.8447\n",
            "Epoch 10/150\n",
            "5/5 [==============================] - 0s 84ms/step - loss: 0.3053 - accuracy: 0.8562 - val_loss: 0.3136 - val_accuracy: 0.8447\n",
            "Epoch 11/150\n",
            "5/5 [==============================] - 0s 84ms/step - loss: 0.3071 - accuracy: 0.8562 - val_loss: 0.3163 - val_accuracy: 0.8447\n",
            "Epoch 12/150\n",
            "5/5 [==============================] - 0s 84ms/step - loss: 0.3078 - accuracy: 0.8562 - val_loss: 0.3047 - val_accuracy: 0.8447\n",
            "Epoch 13/150\n",
            "5/5 [==============================] - 0s 85ms/step - loss: 0.2975 - accuracy: 0.8562 - val_loss: 0.3135 - val_accuracy: 0.8447\n",
            "Epoch 14/150\n",
            "5/5 [==============================] - 0s 94ms/step - loss: 0.3075 - accuracy: 0.8562 - val_loss: 0.3037 - val_accuracy: 0.8447\n",
            "Epoch 15/150\n",
            "5/5 [==============================] - 0s 84ms/step - loss: 0.3014 - accuracy: 0.8562 - val_loss: 0.3129 - val_accuracy: 0.8447\n",
            "Epoch 16/150\n",
            "5/5 [==============================] - 0s 93ms/step - loss: 0.2977 - accuracy: 0.8562 - val_loss: 0.3169 - val_accuracy: 0.8447\n",
            "Epoch 17/150\n",
            "5/5 [==============================] - 0s 92ms/step - loss: 0.3012 - accuracy: 0.8562 - val_loss: 0.2996 - val_accuracy: 0.8447\n",
            "Epoch 18/150\n",
            "5/5 [==============================] - 0s 92ms/step - loss: 0.2901 - accuracy: 0.8562 - val_loss: 0.2975 - val_accuracy: 0.8447\n",
            "Epoch 19/150\n",
            "5/5 [==============================] - 0s 84ms/step - loss: 0.2885 - accuracy: 0.8562 - val_loss: 0.2984 - val_accuracy: 0.8447\n",
            "Epoch 20/150\n",
            "5/5 [==============================] - 0s 101ms/step - loss: 0.2934 - accuracy: 0.8562 - val_loss: 0.2946 - val_accuracy: 0.8447\n",
            "Epoch 21/150\n",
            "5/5 [==============================] - 0s 91ms/step - loss: 0.2877 - accuracy: 0.8562 - val_loss: 0.2904 - val_accuracy: 0.8447\n",
            "Epoch 22/150\n",
            "5/5 [==============================] - 0s 87ms/step - loss: 0.2806 - accuracy: 0.8562 - val_loss: 0.2906 - val_accuracy: 0.8447\n",
            "Epoch 23/150\n",
            "5/5 [==============================] - 0s 89ms/step - loss: 0.2773 - accuracy: 0.8562 - val_loss: 0.2850 - val_accuracy: 0.8447\n",
            "Epoch 24/150\n",
            "5/5 [==============================] - 0s 95ms/step - loss: 0.2791 - accuracy: 0.8562 - val_loss: 0.2812 - val_accuracy: 0.8447\n",
            "Epoch 25/150\n",
            "5/5 [==============================] - 0s 96ms/step - loss: 0.2706 - accuracy: 0.8562 - val_loss: 0.2790 - val_accuracy: 0.8447\n",
            "Epoch 26/150\n",
            "5/5 [==============================] - 0s 88ms/step - loss: 0.2799 - accuracy: 0.8562 - val_loss: 0.2785 - val_accuracy: 0.8447\n",
            "Epoch 27/150\n",
            "5/5 [==============================] - 0s 89ms/step - loss: 0.2676 - accuracy: 0.8562 - val_loss: 0.3036 - val_accuracy: 0.8473\n",
            "Epoch 28/150\n",
            "5/5 [==============================] - 0s 87ms/step - loss: 0.2795 - accuracy: 0.8660 - val_loss: 0.2866 - val_accuracy: 0.8684\n",
            "Epoch 29/150\n",
            "5/5 [==============================] - 0s 83ms/step - loss: 0.2699 - accuracy: 0.8842 - val_loss: 0.2807 - val_accuracy: 0.8785\n",
            "Epoch 30/150\n",
            "5/5 [==============================] - 0s 92ms/step - loss: 0.2590 - accuracy: 0.8859 - val_loss: 0.2670 - val_accuracy: 0.8861\n",
            "Epoch 31/150\n",
            "5/5 [==============================] - 0s 92ms/step - loss: 0.2627 - accuracy: 0.8810 - val_loss: 0.2626 - val_accuracy: 0.8805\n",
            "Epoch 32/150\n",
            "5/5 [==============================] - 0s 84ms/step - loss: 0.2698 - accuracy: 0.8760 - val_loss: 0.2833 - val_accuracy: 0.8740\n",
            "Epoch 33/150\n",
            "5/5 [==============================] - 0s 87ms/step - loss: 0.2613 - accuracy: 0.8866 - val_loss: 0.2675 - val_accuracy: 0.8831\n",
            "Epoch 34/150\n",
            "5/5 [==============================] - 0s 92ms/step - loss: 0.2492 - accuracy: 0.8919 - val_loss: 0.2572 - val_accuracy: 0.8879\n",
            "Epoch 35/150\n",
            "5/5 [==============================] - 0s 87ms/step - loss: 0.2391 - accuracy: 0.8989 - val_loss: 0.2584 - val_accuracy: 0.8900\n",
            "Epoch 36/150\n",
            "5/5 [==============================] - 0s 83ms/step - loss: 0.2380 - accuracy: 0.8989 - val_loss: 0.2403 - val_accuracy: 0.8965\n",
            "Epoch 37/150\n",
            "5/5 [==============================] - 0s 84ms/step - loss: 0.2324 - accuracy: 0.9004 - val_loss: 0.2578 - val_accuracy: 0.8886\n",
            "Epoch 38/150\n",
            "5/5 [==============================] - 0s 92ms/step - loss: 0.2251 - accuracy: 0.9037 - val_loss: 0.2501 - val_accuracy: 0.8898\n",
            "Epoch 39/150\n",
            "5/5 [==============================] - 0s 84ms/step - loss: 0.2316 - accuracy: 0.8991 - val_loss: 0.2783 - val_accuracy: 0.8889\n",
            "Epoch 40/150\n",
            "5/5 [==============================] - 0s 87ms/step - loss: 0.2240 - accuracy: 0.9068 - val_loss: 0.2699 - val_accuracy: 0.8847\n",
            "Epoch 41/150\n",
            "5/5 [==============================] - 0s 93ms/step - loss: 0.2268 - accuracy: 0.9052 - val_loss: 0.2482 - val_accuracy: 0.8955\n",
            "Epoch 42/150\n",
            "5/5 [==============================] - 0s 84ms/step - loss: 0.2072 - accuracy: 0.9139 - val_loss: 0.2542 - val_accuracy: 0.8960\n",
            "Epoch 43/150\n",
            "5/5 [==============================] - 0s 84ms/step - loss: 0.2020 - accuracy: 0.9193 - val_loss: 0.2538 - val_accuracy: 0.8905\n",
            "Epoch 44/150\n",
            "5/5 [==============================] - 0s 89ms/step - loss: 0.1896 - accuracy: 0.9254 - val_loss: 0.2591 - val_accuracy: 0.8883\n",
            "Epoch 45/150\n",
            "5/5 [==============================] - 0s 85ms/step - loss: 0.1965 - accuracy: 0.9184 - val_loss: 0.2924 - val_accuracy: 0.8771\n",
            "Epoch 46/150\n",
            "5/5 [==============================] - 0s 85ms/step - loss: 0.1903 - accuracy: 0.9212 - val_loss: 0.2574 - val_accuracy: 0.8893\n",
            "Epoch 47/150\n",
            "5/5 [==============================] - 0s 85ms/step - loss: 0.1803 - accuracy: 0.9246 - val_loss: 0.2676 - val_accuracy: 0.8876\n",
            "Epoch 48/150\n",
            "5/5 [==============================] - 0s 86ms/step - loss: 0.1680 - accuracy: 0.9313 - val_loss: 0.3599 - val_accuracy: 0.8920\n",
            "Epoch 49/150\n",
            "5/5 [==============================] - 0s 94ms/step - loss: 0.1893 - accuracy: 0.9231 - val_loss: 0.2603 - val_accuracy: 0.8900\n",
            "Epoch 50/150\n",
            "5/5 [==============================] - 0s 85ms/step - loss: 0.1724 - accuracy: 0.9334 - val_loss: 0.3279 - val_accuracy: 0.8733\n",
            "Epoch 51/150\n",
            "5/5 [==============================] - 0s 85ms/step - loss: 0.1960 - accuracy: 0.9206 - val_loss: 0.2548 - val_accuracy: 0.8942\n",
            "Epoch 52/150\n",
            "5/5 [==============================] - 0s 94ms/step - loss: 0.1611 - accuracy: 0.9369 - val_loss: 0.3434 - val_accuracy: 0.8955\n",
            "Epoch 53/150\n",
            "5/5 [==============================] - 0s 91ms/step - loss: 0.1580 - accuracy: 0.9373 - val_loss: 0.2855 - val_accuracy: 0.8963\n",
            "Epoch 54/150\n",
            "5/5 [==============================] - 0s 92ms/step - loss: 0.1531 - accuracy: 0.9368 - val_loss: 0.3391 - val_accuracy: 0.8929\n",
            "Epoch 55/150\n",
            "5/5 [==============================] - 0s 99ms/step - loss: 0.1314 - accuracy: 0.9467 - val_loss: 0.2759 - val_accuracy: 0.8925\n",
            "Epoch 56/150\n",
            "5/5 [==============================] - 0s 96ms/step - loss: 0.1253 - accuracy: 0.9508 - val_loss: 0.3254 - val_accuracy: 0.8999\n",
            "Epoch 57/150\n",
            "5/5 [==============================] - 0s 92ms/step - loss: 0.1151 - accuracy: 0.9540 - val_loss: 0.3313 - val_accuracy: 0.8807\n",
            "Epoch 58/150\n",
            "5/5 [==============================] - 0s 97ms/step - loss: 0.1086 - accuracy: 0.9546 - val_loss: 0.2996 - val_accuracy: 0.8939\n",
            "Epoch 59/150\n",
            "5/5 [==============================] - 0s 97ms/step - loss: 0.0995 - accuracy: 0.9595 - val_loss: 0.3375 - val_accuracy: 0.8923\n",
            "Epoch 60/150\n",
            "5/5 [==============================] - 0s 86ms/step - loss: 0.0882 - accuracy: 0.9624 - val_loss: 0.3623 - val_accuracy: 0.8915\n",
            "Epoch 61/150\n",
            "5/5 [==============================] - 0s 85ms/step - loss: 0.0788 - accuracy: 0.9662 - val_loss: 0.4558 - val_accuracy: 0.8967\n",
            "Epoch 62/150\n",
            "5/5 [==============================] - 0s 85ms/step - loss: 0.0749 - accuracy: 0.9683 - val_loss: 0.3995 - val_accuracy: 0.8963\n",
            "Epoch 63/150\n",
            "5/5 [==============================] - 0s 93ms/step - loss: 0.0701 - accuracy: 0.9703 - val_loss: 0.4958 - val_accuracy: 0.8917\n",
            "Epoch 64/150\n",
            "5/5 [==============================] - 0s 86ms/step - loss: 0.0651 - accuracy: 0.9720 - val_loss: 0.4040 - val_accuracy: 0.8918\n",
            "Epoch 65/150\n",
            "5/5 [==============================] - 0s 93ms/step - loss: 0.0602 - accuracy: 0.9744 - val_loss: 0.4545 - val_accuracy: 0.8973\n",
            "Epoch 66/150\n",
            "5/5 [==============================] - 0s 87ms/step - loss: 0.0546 - accuracy: 0.9761 - val_loss: 0.4757 - val_accuracy: 0.8964\n",
            "Epoch 67/150\n",
            "5/5 [==============================] - 0s 86ms/step - loss: 0.0514 - accuracy: 0.9777 - val_loss: 0.5206 - val_accuracy: 0.8987\n",
            "Epoch 68/150\n",
            "5/5 [==============================] - 0s 96ms/step - loss: 0.0498 - accuracy: 0.9778 - val_loss: 0.4913 - val_accuracy: 0.8999\n",
            "Epoch 69/150\n",
            "5/5 [==============================] - 0s 87ms/step - loss: 0.0486 - accuracy: 0.9791 - val_loss: 0.4401 - val_accuracy: 0.9001\n",
            "Epoch 70/150\n",
            "5/5 [==============================] - 0s 86ms/step - loss: 0.0445 - accuracy: 0.9804 - val_loss: 0.4750 - val_accuracy: 0.9013\n",
            "Epoch 71/150\n",
            "5/5 [==============================] - 0s 88ms/step - loss: 0.0389 - accuracy: 0.9827 - val_loss: 0.5761 - val_accuracy: 0.9014\n",
            "Epoch 72/150\n",
            "5/5 [==============================] - 0s 86ms/step - loss: 0.0369 - accuracy: 0.9834 - val_loss: 0.5981 - val_accuracy: 0.8950\n",
            "Epoch 73/150\n",
            "5/5 [==============================] - 0s 86ms/step - loss: 0.0362 - accuracy: 0.9835 - val_loss: 0.5472 - val_accuracy: 0.8995\n",
            "Epoch 74/150\n",
            "5/5 [==============================] - 0s 86ms/step - loss: 0.0342 - accuracy: 0.9843 - val_loss: 0.5669 - val_accuracy: 0.9031\n",
            "Epoch 75/150\n",
            "5/5 [==============================] - 0s 85ms/step - loss: 0.0329 - accuracy: 0.9850 - val_loss: 0.6294 - val_accuracy: 0.9002\n",
            "Epoch 76/150\n",
            "5/5 [==============================] - 0s 94ms/step - loss: 0.0315 - accuracy: 0.9858 - val_loss: 0.5891 - val_accuracy: 0.9058\n",
            "Epoch 77/150\n",
            "5/5 [==============================] - 0s 86ms/step - loss: 0.0357 - accuracy: 0.9835 - val_loss: 0.6860 - val_accuracy: 0.8979\n",
            "Epoch 78/150\n",
            "5/5 [==============================] - 0s 86ms/step - loss: 0.0485 - accuracy: 0.9794 - val_loss: 0.5841 - val_accuracy: 0.8980\n",
            "Epoch 79/150\n",
            "5/5 [==============================] - 0s 86ms/step - loss: 0.0582 - accuracy: 0.9750 - val_loss: 0.4548 - val_accuracy: 0.8802\n",
            "Epoch 80/150\n",
            "5/5 [==============================] - 0s 95ms/step - loss: 0.0730 - accuracy: 0.9694 - val_loss: 0.3376 - val_accuracy: 0.9001\n",
            "Epoch 81/150\n",
            "5/5 [==============================] - 0s 97ms/step - loss: 0.0591 - accuracy: 0.9763 - val_loss: 0.5983 - val_accuracy: 0.8867\n",
            "Epoch 82/150\n",
            "5/5 [==============================] - 0s 87ms/step - loss: 0.0584 - accuracy: 0.9761 - val_loss: 0.4717 - val_accuracy: 0.9023\n",
            "Epoch 83/150\n",
            "5/5 [==============================] - 0s 89ms/step - loss: 0.0464 - accuracy: 0.9794 - val_loss: 0.4688 - val_accuracy: 0.9017\n",
            "Epoch 84/150\n",
            "5/5 [==============================] - 0s 101ms/step - loss: 0.0373 - accuracy: 0.9833 - val_loss: 0.4467 - val_accuracy: 0.8968\n",
            "Epoch 85/150\n",
            "5/5 [==============================] - 0s 96ms/step - loss: 0.0345 - accuracy: 0.9844 - val_loss: 0.6265 - val_accuracy: 0.9013\n",
            "Epoch 86/150\n",
            "5/5 [==============================] - 0s 100ms/step - loss: 0.0303 - accuracy: 0.9859 - val_loss: 0.6307 - val_accuracy: 0.9032\n",
            "Epoch 87/150\n",
            "5/5 [==============================] - 0s 92ms/step - loss: 0.0264 - accuracy: 0.9874 - val_loss: 0.6782 - val_accuracy: 0.9020\n",
            "Epoch 88/150\n",
            "5/5 [==============================] - 0s 92ms/step - loss: 0.0236 - accuracy: 0.9888 - val_loss: 0.6804 - val_accuracy: 0.9026\n",
            "Epoch 89/150\n",
            "5/5 [==============================] - 0s 100ms/step - loss: 0.0210 - accuracy: 0.9898 - val_loss: 0.7565 - val_accuracy: 0.9036\n",
            "Epoch 90/150\n",
            "5/5 [==============================] - 0s 102ms/step - loss: 0.0201 - accuracy: 0.9901 - val_loss: 0.7242 - val_accuracy: 0.9046\n",
            "Epoch 91/150\n",
            "5/5 [==============================] - 0s 98ms/step - loss: 0.0177 - accuracy: 0.9913 - val_loss: 0.8369 - val_accuracy: 0.9039\n",
            "Epoch 92/150\n",
            "5/5 [==============================] - 0s 88ms/step - loss: 0.0166 - accuracy: 0.9918 - val_loss: 0.8432 - val_accuracy: 0.9035\n",
            "Epoch 93/150\n",
            "5/5 [==============================] - 0s 88ms/step - loss: 0.0157 - accuracy: 0.9921 - val_loss: 0.9056 - val_accuracy: 0.9039\n",
            "Epoch 94/150\n",
            "5/5 [==============================] - 0s 95ms/step - loss: 0.0149 - accuracy: 0.9924 - val_loss: 0.9041 - val_accuracy: 0.9041\n",
            "Epoch 95/150\n",
            "5/5 [==============================] - 0s 86ms/step - loss: 0.0151 - accuracy: 0.9922 - val_loss: 0.9069 - val_accuracy: 0.9034\n",
            "Epoch 96/150\n",
            "5/5 [==============================] - 0s 87ms/step - loss: 0.0147 - accuracy: 0.9923 - val_loss: 0.9585 - val_accuracy: 0.9043\n",
            "Epoch 97/150\n",
            "5/5 [==============================] - 0s 86ms/step - loss: 0.0148 - accuracy: 0.9923 - val_loss: 0.9122 - val_accuracy: 0.9062\n",
            "Epoch 98/150\n",
            "5/5 [==============================] - 0s 95ms/step - loss: 0.0146 - accuracy: 0.9924 - val_loss: 0.9143 - val_accuracy: 0.9057\n",
            "Epoch 99/150\n",
            "5/5 [==============================] - 0s 86ms/step - loss: 0.0140 - accuracy: 0.9927 - val_loss: 0.9768 - val_accuracy: 0.9040\n",
            "Epoch 100/150\n",
            "5/5 [==============================] - 0s 95ms/step - loss: 0.0133 - accuracy: 0.9930 - val_loss: 0.9769 - val_accuracy: 0.9044\n",
            "Epoch 101/150\n",
            "5/5 [==============================] - 0s 95ms/step - loss: 0.0135 - accuracy: 0.9929 - val_loss: 0.9636 - val_accuracy: 0.9057\n",
            "Epoch 102/150\n",
            "5/5 [==============================] - 0s 87ms/step - loss: 0.0130 - accuracy: 0.9931 - val_loss: 1.0297 - val_accuracy: 0.9065\n",
            "Epoch 103/150\n",
            "5/5 [==============================] - 0s 86ms/step - loss: 0.0126 - accuracy: 0.9933 - val_loss: 0.9949 - val_accuracy: 0.9064\n",
            "Epoch 104/150\n",
            "5/5 [==============================] - 0s 87ms/step - loss: 0.0127 - accuracy: 0.9933 - val_loss: 1.0419 - val_accuracy: 0.9036\n",
            "Epoch 105/150\n",
            "5/5 [==============================] - 0s 87ms/step - loss: 0.0120 - accuracy: 0.9936 - val_loss: 1.0778 - val_accuracy: 0.9032\n",
            "Epoch 106/150\n",
            "5/5 [==============================] - 0s 88ms/step - loss: 0.0119 - accuracy: 0.9936 - val_loss: 1.0396 - val_accuracy: 0.9042\n",
            "Epoch 107/150\n",
            "5/5 [==============================] - 0s 87ms/step - loss: 0.0115 - accuracy: 0.9938 - val_loss: 1.0621 - val_accuracy: 0.9045\n",
            "Epoch 108/150\n",
            "5/5 [==============================] - 0s 88ms/step - loss: 0.0120 - accuracy: 0.9936 - val_loss: 1.0626 - val_accuracy: 0.9040\n",
            "Epoch 109/150\n",
            "5/5 [==============================] - 0s 96ms/step - loss: 0.0117 - accuracy: 0.9937 - val_loss: 1.0411 - val_accuracy: 0.9033\n",
            "Epoch 110/150\n",
            "5/5 [==============================] - 0s 89ms/step - loss: 0.0120 - accuracy: 0.9936 - val_loss: 1.0918 - val_accuracy: 0.9050\n",
            "Epoch 111/150\n",
            "5/5 [==============================] - 0s 88ms/step - loss: 0.0113 - accuracy: 0.9938 - val_loss: 1.0032 - val_accuracy: 0.9054\n",
            "Epoch 112/150\n",
            "5/5 [==============================] - 0s 96ms/step - loss: 0.0120 - accuracy: 0.9936 - val_loss: 1.1389 - val_accuracy: 0.9051\n",
            "Epoch 113/150\n",
            "5/5 [==============================] - 0s 97ms/step - loss: 0.0126 - accuracy: 0.9932 - val_loss: 1.0255 - val_accuracy: 0.9070\n",
            "Epoch 114/150\n",
            "5/5 [==============================] - 0s 89ms/step - loss: 0.0130 - accuracy: 0.9931 - val_loss: 1.0434 - val_accuracy: 0.9042\n",
            "Epoch 115/150\n",
            "5/5 [==============================] - 0s 100ms/step - loss: 0.0136 - accuracy: 0.9929 - val_loss: 0.9944 - val_accuracy: 0.9053\n",
            "Epoch 116/150\n",
            "5/5 [==============================] - 0s 102ms/step - loss: 0.0124 - accuracy: 0.9934 - val_loss: 0.9554 - val_accuracy: 0.9047\n",
            "Epoch 117/150\n",
            "5/5 [==============================] - 0s 102ms/step - loss: 0.0117 - accuracy: 0.9937 - val_loss: 1.0160 - val_accuracy: 0.9043\n",
            "Epoch 118/150\n",
            "5/5 [==============================] - 0s 92ms/step - loss: 0.0118 - accuracy: 0.9936 - val_loss: 0.9928 - val_accuracy: 0.9030\n",
            "Epoch 119/150\n",
            "5/5 [==============================] - 0s 102ms/step - loss: 0.0110 - accuracy: 0.9940 - val_loss: 1.0917 - val_accuracy: 0.9038\n",
            "Epoch 120/150\n",
            "5/5 [==============================] - 0s 100ms/step - loss: 0.0105 - accuracy: 0.9942 - val_loss: 1.0229 - val_accuracy: 0.9038\n",
            "Epoch 121/150\n",
            "5/5 [==============================] - 0s 95ms/step - loss: 0.0105 - accuracy: 0.9942 - val_loss: 1.1602 - val_accuracy: 0.9051\n",
            "Epoch 122/150\n",
            "5/5 [==============================] - 0s 98ms/step - loss: 0.0103 - accuracy: 0.9942 - val_loss: 1.1628 - val_accuracy: 0.9038\n",
            "Epoch 123/150\n",
            "5/5 [==============================] - 0s 89ms/step - loss: 0.0103 - accuracy: 0.9943 - val_loss: 1.1097 - val_accuracy: 0.9057\n",
            "Epoch 124/150\n",
            "5/5 [==============================] - 0s 89ms/step - loss: 0.0100 - accuracy: 0.9944 - val_loss: 1.1747 - val_accuracy: 0.9048\n",
            "Epoch 125/150\n",
            "5/5 [==============================] - 0s 89ms/step - loss: 0.0096 - accuracy: 0.9946 - val_loss: 1.1615 - val_accuracy: 0.9058\n",
            "Epoch 126/150\n",
            "5/5 [==============================] - 0s 96ms/step - loss: 0.0092 - accuracy: 0.9947 - val_loss: 1.1736 - val_accuracy: 0.9052\n",
            "Epoch 127/150\n",
            "5/5 [==============================] - 0s 89ms/step - loss: 0.0086 - accuracy: 0.9950 - val_loss: 1.1890 - val_accuracy: 0.9049\n",
            "Epoch 128/150\n",
            "5/5 [==============================] - 0s 98ms/step - loss: 0.0081 - accuracy: 0.9952 - val_loss: 1.2949 - val_accuracy: 0.9047\n",
            "Epoch 129/150\n",
            "5/5 [==============================] - 0s 97ms/step - loss: 0.0078 - accuracy: 0.9953 - val_loss: 1.3106 - val_accuracy: 0.9059\n",
            "Epoch 130/150\n",
            "5/5 [==============================] - 0s 90ms/step - loss: 0.0075 - accuracy: 0.9954 - val_loss: 1.3933 - val_accuracy: 0.9047\n",
            "Epoch 131/150\n",
            "5/5 [==============================] - 0s 89ms/step - loss: 0.0074 - accuracy: 0.9955 - val_loss: 1.4196 - val_accuracy: 0.9046\n",
            "Epoch 132/150\n",
            "5/5 [==============================] - 0s 88ms/step - loss: 0.0073 - accuracy: 0.9955 - val_loss: 1.4134 - val_accuracy: 0.9047\n",
            "Epoch 133/150\n",
            "5/5 [==============================] - 0s 89ms/step - loss: 0.0073 - accuracy: 0.9955 - val_loss: 1.4314 - val_accuracy: 0.9049\n",
            "Epoch 134/150\n",
            "5/5 [==============================] - 0s 89ms/step - loss: 0.0076 - accuracy: 0.9953 - val_loss: 1.4385 - val_accuracy: 0.9044\n",
            "Epoch 135/150\n",
            "5/5 [==============================] - 0s 97ms/step - loss: 0.0083 - accuracy: 0.9951 - val_loss: 1.3612 - val_accuracy: 0.9047\n",
            "Epoch 136/150\n",
            "5/5 [==============================] - 0s 90ms/step - loss: 0.0089 - accuracy: 0.9949 - val_loss: 1.3133 - val_accuracy: 0.9030\n",
            "Epoch 137/150\n",
            "5/5 [==============================] - 0s 89ms/step - loss: 0.0092 - accuracy: 0.9946 - val_loss: 1.2477 - val_accuracy: 0.9066\n",
            "Epoch 138/150\n",
            "5/5 [==============================] - 0s 90ms/step - loss: 0.0089 - accuracy: 0.9949 - val_loss: 1.2095 - val_accuracy: 0.9056\n",
            "Epoch 139/150\n",
            "5/5 [==============================] - 0s 98ms/step - loss: 0.0082 - accuracy: 0.9951 - val_loss: 1.2519 - val_accuracy: 0.9048\n",
            "Epoch 140/150\n",
            "5/5 [==============================] - 0s 97ms/step - loss: 0.0080 - accuracy: 0.9952 - val_loss: 1.2617 - val_accuracy: 0.9045\n",
            "Epoch 141/150\n",
            "5/5 [==============================] - 0s 90ms/step - loss: 0.0077 - accuracy: 0.9953 - val_loss: 1.2450 - val_accuracy: 0.9060\n",
            "Epoch 142/150\n",
            "5/5 [==============================] - 0s 96ms/step - loss: 0.0075 - accuracy: 0.9954 - val_loss: 1.3396 - val_accuracy: 0.9036\n",
            "Epoch 143/150\n",
            "5/5 [==============================] - 0s 90ms/step - loss: 0.0073 - accuracy: 0.9955 - val_loss: 1.3455 - val_accuracy: 0.9044\n",
            "Epoch 144/150\n",
            "5/5 [==============================] - 0s 88ms/step - loss: 0.0071 - accuracy: 0.9956 - val_loss: 1.3925 - val_accuracy: 0.9045\n",
            "Epoch 145/150\n",
            "5/5 [==============================] - 0s 89ms/step - loss: 0.0073 - accuracy: 0.9955 - val_loss: 1.3720 - val_accuracy: 0.9056\n",
            "Epoch 146/150\n",
            "5/5 [==============================] - 0s 103ms/step - loss: 0.0072 - accuracy: 0.9955 - val_loss: 1.3727 - val_accuracy: 0.9027\n",
            "Epoch 147/150\n",
            "5/5 [==============================] - 0s 105ms/step - loss: 0.0082 - accuracy: 0.9951 - val_loss: 1.4171 - val_accuracy: 0.9056\n",
            "Epoch 148/150\n",
            "5/5 [==============================] - 0s 105ms/step - loss: 0.0086 - accuracy: 0.9949 - val_loss: 1.3354 - val_accuracy: 0.9057\n",
            "Epoch 149/150\n",
            "5/5 [==============================] - 0s 100ms/step - loss: 0.0083 - accuracy: 0.9951 - val_loss: 1.2776 - val_accuracy: 0.9042\n",
            "Epoch 150/150\n",
            "5/5 [==============================] - 0s 100ms/step - loss: 0.0086 - accuracy: 0.9949 - val_loss: 1.2252 - val_accuracy: 0.9029\n"
          ]
        },
        {
          "output_type": "execute_result",
          "data": {
            "text/plain": [
              "<keras.src.callbacks.History at 0x7e2f4d318dc0>"
            ]
          },
          "metadata": {},
          "execution_count": 18
        }
      ]
    },
    {
      "cell_type": "code",
      "source": [
        "ans = model.predict(np.array([images[0]]))\n",
        "\n",
        "print(ans.shape)\n",
        "\n",
        "ans = ans[0] > 0.5\n",
        "\n",
        "plt.imshow(ans)\n",
        "plt.show()"
      ],
      "metadata": {
        "colab": {
          "base_uri": "https://localhost:8080/",
          "height": 469
        },
        "id": "raXuA0QGe2SU",
        "outputId": "fbf56d7b-a498-4c39-ed0a-1a320f593b75"
      },
      "execution_count": 19,
      "outputs": [
        {
          "output_type": "stream",
          "name": "stdout",
          "text": [
            "1/1 [==============================] - 1s 840ms/step\n",
            "(1, 128, 128, 1)\n"
          ]
        },
        {
          "output_type": "display_data",
          "data": {
            "text/plain": [
              "<Figure size 640x480 with 1 Axes>"
            ],
            "image/png": "[encoded data removed]"
          },
          "metadata": {}
        }
      ]
    },
    {
      "cell_type": "code",
      "source": [],
      "metadata": {
        "id": "TdbY5YMA3onb"
      },
      "execution_count": null,
      "outputs": []
    }
  ]
}