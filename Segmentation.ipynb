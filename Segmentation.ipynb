{
  "nbformat": 4,
  "nbformat_minor": 0,
  "metadata": {
    "colab": {
      "provenance": [],
      "gpuType": "T4"
    },
    "kernelspec": {
      "name": "python3",
      "display_name": "Python 3"
    },
    "language_info": {
      "name": "python"
    },
    "accelerator": "GPU"
  },
  "cells": [
    {
      "cell_type": "code",
      "execution_count": 1,
      "metadata": {
        "colab": {
          "base_uri": "https://localhost:8080/",
          "height": 34
        },
        "id": "AezK_K-PzR8c",
        "outputId": "e66c991b-d23f-474d-cab4-d3b4a42dda0b"
      },
      "outputs": [
        {
          "output_type": "display_data",
          "data": {
            "application/javascript": [
              "IPython.notebook.set_autosave_interval(20000)"
            ]
          },
          "metadata": {}
        },
        {
          "output_type": "stream",
          "name": "stdout",
          "text": [
            "Autosaving every 20 seconds\n"
          ]
        }
      ],
      "source": [
        "%autosave 20\n",
        "\n",
        "import os\n",
        "import sys\n",
        "import random\n",
        "import numpy as np\n",
        "import cv2\n",
        "from matplotlib import pyplot as plt\n",
        "import tensorflow as tf\n",
        "from tensorflow import keras\n",
        "from keras.layers import Conv2D\n",
        "from keras.layers import MaxPool2D\n",
        "from keras.layers import UpSampling2D\n",
        "from keras.layers import Concatenate\n",
        "from google.colab import drive\n",
        "import cv2"
      ]
    },
    {
      "cell_type": "code",
      "source": [
        "drive.mount('/content/drive/')\n",
        "dataset_folder = 'drive/MyDrive/datasets/EndoTect_2020_Segmentation_Test_Dataset'\n",
        "\n",
        "def load_data(folder, mask=False):\n",
        "  imgs = []\n",
        "\n",
        "  for fname in os.listdir(folder):\n",
        "    img = []\n",
        "    if not mask:\n",
        "      img = cv2.imread(os.path.join(folder, fname))\n",
        "    else:\n",
        "      img = cv2.imread(os.path.join(folder, fname), 0)\n",
        "    if img is not None:\n",
        "      imgs.append(img)\n",
        "\n",
        "  return imgs"
      ],
      "metadata": {
        "colab": {
          "base_uri": "https://localhost:8080/"
        },
        "id": "0Xsso72uQ8KR",
        "outputId": "b62a4c20-43e5-42e5-a816-29c05618e11e"
      },
      "execution_count": 2,
      "outputs": [
        {
          "output_type": "stream",
          "name": "stdout",
          "text": [
            "Mounted at /content/drive/\n"
          ]
        }
      ]
    },
    {
      "cell_type": "code",
      "source": [
        "images = load_data(dataset_folder + \"/images\")\n",
        "masks = load_data(dataset_folder + \"/masks\", True)\n",
        "\n",
        "print(len(images), len(masks))"
      ],
      "metadata": {
        "colab": {
          "base_uri": "https://localhost:8080/"
        },
        "id": "NJerVVUlb51e",
        "outputId": "9cdeeea2-0cb6-4feb-a8c2-5ec422216069"
      },
      "execution_count": 3,
      "outputs": [
        {
          "output_type": "stream",
          "name": "stdout",
          "text": [
            "200 200\n"
          ]
        }
      ]
    },
    {
      "cell_type": "code",
      "source": [
        "for i in range(len(images)):\n",
        "  images[i] = cv2.resize(images[i], (128,128))\n",
        "  masks[i] = cv2.resize(masks[i], (128,128))\n",
        "  mask_ = []\n",
        "  for j in range(128):\n",
        "    mask_row = []\n",
        "    for k in range(128):\n",
        "      mask_row.append([masks[i][j,k]])\n",
        "    mask_.append(mask_row)\n",
        "  mask__ = np.array(mask_)\n",
        "  masks[i] = mask__"
      ],
      "metadata": {
        "id": "pDS6IIJfccSl"
      },
      "execution_count": 4,
      "outputs": []
    },
    {
      "cell_type": "code",
      "source": [
        "for mask in masks:\n",
        "  mask_ = np.zeros((128,128,1))\n",
        "  mask = np.maximum(mask, mask_)"
      ],
      "metadata": {
        "id": "xQsOT3cu2QXk"
      },
      "execution_count": 5,
      "outputs": []
    },
    {
      "cell_type": "code",
      "source": [
        "def down_conv(prev_layer, num_layers,  kernel_size=(3,3), padding=\"same\", strides=1, activation=\"relu\"):\n",
        "  conv = Conv2D(num_layers, kernel_size, padding=padding, strides=strides, activation=activation)(prev_layer)\n",
        "  conv = Conv2D(num_layers, kernel_size, padding=padding, strides=strides, activation=activation)(conv)\n",
        "  pool = MaxPool2D((2,2), (2,2))(conv)\n",
        "\n",
        "  return [conv, pool]\n",
        "\n",
        "def up_conv(prev_layer, skip_layer, num_layers,  kernel_size=(3,3), padding=\"same\", strides=1, activation=\"relu\"):\n",
        "  upsamp = UpSampling2D((2,2))(prev_layer)\n",
        "  conc = Concatenate()([upsamp, skip_layer])\n",
        "  conv = Conv2D(num_layers, kernel_size, padding=padding, strides=strides, activation=activation)(conc)\n",
        "  conv = Conv2D(num_layers, kernel_size, padding=padding, strides=strides, activation=activation)(conv)\n",
        "\n",
        "  return conv\n",
        "\n",
        "def bootle_neck(prev_layer, num_layers,  kernel_size=(3,3), padding=\"same\", strides=1, activation=\"relu\"):\n",
        "  conv = Conv2D(num_layers, kernel_size, padding=padding, strides=strides, activation=activation)(prev_layer)\n",
        "  conv = Conv2D(num_layers, kernel_size, padding=padding, strides=strides, activation=activation)(conv)\n",
        "\n",
        "  return conv\n",
        "\n",
        "def reduce_layers(layer):\n",
        "  return Conv2D(1, (1,1), padding=\"same\", activation=\"sigmoid\")(layer)"
      ],
      "metadata": {
        "id": "pc9-QNaf1f2y"
      },
      "execution_count": 6,
      "outputs": []
    },
    {
      "cell_type": "code",
      "source": [
        "input = keras.layers.Input((128,128,3))\n",
        "conv1, pool1 = down_conv(input, 16)\n",
        "conv2, pool2 = down_conv(pool1, 32)\n",
        "conv3, pool3 = down_conv(pool2, 64)\n",
        "conv4, pool4 = down_conv(pool3, 128)\n",
        "\n",
        "bneck = bootle_neck(pool4, 256)\n",
        "\n",
        "up1 = up_conv(bneck, conv4, 128)\n",
        "up2 = up_conv(up1, conv3, 64)\n",
        "up3 = up_conv(up2, conv2, 32)\n",
        "up4 = up_conv(up3, conv1, 16)\n",
        "\n",
        "output = reduce_layers(up4)\n",
        "\n",
        "model = keras.models.Model(input, output)\n",
        "\n",
        "opt = keras.optimizers.Adam(learning_rate=0.001)\n",
        "model.compile(optimizer=opt, loss=\"binary_crossentropy\", metrics=[\"accuracy\"])\n",
        "model.summary()"
      ],
      "metadata": {
        "colab": {
          "base_uri": "https://localhost:8080/"
        },
        "id": "xXS4t0C-5OLu",
        "outputId": "118d746c-927a-4851-99eb-9f194a35d290"
      },
      "execution_count": 7,
      "outputs": [
        {
          "output_type": "stream",
          "name": "stdout",
          "text": [
            "Model: \"model\"\n",
            "__________________________________________________________________________________________________\n",
            " Layer (type)                Output Shape                 Param #   Connected to                  \n",
            "==================================================================================================\n",
            " input_1 (InputLayer)        [(None, 128, 128, 3)]        0         []                            \n",
            "                                                                                                  \n",
            " conv2d (Conv2D)             (None, 128, 128, 16)         448       ['input_1[0][0]']             \n",
            "                                                                                                  \n",
            " conv2d_1 (Conv2D)           (None, 128, 128, 16)         2320      ['conv2d[0][0]']              \n",
            "                                                                                                  \n",
            " max_pooling2d (MaxPooling2  (None, 64, 64, 16)           0         ['conv2d_1[0][0]']            \n",
            " D)                                                                                               \n",
            "                                                                                                  \n",
            " conv2d_2 (Conv2D)           (None, 64, 64, 32)           4640      ['max_pooling2d[0][0]']       \n",
            "                                                                                                  \n",
            " conv2d_3 (Conv2D)           (None, 64, 64, 32)           9248      ['conv2d_2[0][0]']            \n",
            "                                                                                                  \n",
            " max_pooling2d_1 (MaxPoolin  (None, 32, 32, 32)           0         ['conv2d_3[0][0]']            \n",
            " g2D)                                                                                             \n",
            "                                                                                                  \n",
            " conv2d_4 (Conv2D)           (None, 32, 32, 64)           18496     ['max_pooling2d_1[0][0]']     \n",
            "                                                                                                  \n",
            " conv2d_5 (Conv2D)           (None, 32, 32, 64)           36928     ['conv2d_4[0][0]']            \n",
            "                                                                                                  \n",
            " max_pooling2d_2 (MaxPoolin  (None, 16, 16, 64)           0         ['conv2d_5[0][0]']            \n",
            " g2D)                                                                                             \n",
            "                                                                                                  \n",
            " conv2d_6 (Conv2D)           (None, 16, 16, 128)          73856     ['max_pooling2d_2[0][0]']     \n",
            "                                                                                                  \n",
            " conv2d_7 (Conv2D)           (None, 16, 16, 128)          147584    ['conv2d_6[0][0]']            \n",
            "                                                                                                  \n",
            " max_pooling2d_3 (MaxPoolin  (None, 8, 8, 128)            0         ['conv2d_7[0][0]']            \n",
            " g2D)                                                                                             \n",
            "                                                                                                  \n",
            " conv2d_8 (Conv2D)           (None, 8, 8, 256)            295168    ['max_pooling2d_3[0][0]']     \n",
            "                                                                                                  \n",
            " conv2d_9 (Conv2D)           (None, 8, 8, 256)            590080    ['conv2d_8[0][0]']            \n",
            "                                                                                                  \n",
            " up_sampling2d (UpSampling2  (None, 16, 16, 256)          0         ['conv2d_9[0][0]']            \n",
            " D)                                                                                               \n",
            "                                                                                                  \n",
            " concatenate (Concatenate)   (None, 16, 16, 384)          0         ['up_sampling2d[0][0]',       \n",
            "                                                                     'conv2d_7[0][0]']            \n",
            "                                                                                                  \n",
            " conv2d_10 (Conv2D)          (None, 16, 16, 128)          442496    ['concatenate[0][0]']         \n",
            "                                                                                                  \n",
            " conv2d_11 (Conv2D)          (None, 16, 16, 128)          147584    ['conv2d_10[0][0]']           \n",
            "                                                                                                  \n",
            " up_sampling2d_1 (UpSamplin  (None, 32, 32, 128)          0         ['conv2d_11[0][0]']           \n",
            " g2D)                                                                                             \n",
            "                                                                                                  \n",
            " concatenate_1 (Concatenate  (None, 32, 32, 192)          0         ['up_sampling2d_1[0][0]',     \n",
            " )                                                                   'conv2d_5[0][0]']            \n",
            "                                                                                                  \n",
            " conv2d_12 (Conv2D)          (None, 32, 32, 64)           110656    ['concatenate_1[0][0]']       \n",
            "                                                                                                  \n",
            " conv2d_13 (Conv2D)          (None, 32, 32, 64)           36928     ['conv2d_12[0][0]']           \n",
            "                                                                                                  \n",
            " up_sampling2d_2 (UpSamplin  (None, 64, 64, 64)           0         ['conv2d_13[0][0]']           \n",
            " g2D)                                                                                             \n",
            "                                                                                                  \n",
            " concatenate_2 (Concatenate  (None, 64, 64, 96)           0         ['up_sampling2d_2[0][0]',     \n",
            " )                                                                   'conv2d_3[0][0]']            \n",
            "                                                                                                  \n",
            " conv2d_14 (Conv2D)          (None, 64, 64, 32)           27680     ['concatenate_2[0][0]']       \n",
            "                                                                                                  \n",
            " conv2d_15 (Conv2D)          (None, 64, 64, 32)           9248      ['conv2d_14[0][0]']           \n",
            "                                                                                                  \n",
            " up_sampling2d_3 (UpSamplin  (None, 128, 128, 32)         0         ['conv2d_15[0][0]']           \n",
            " g2D)                                                                                             \n",
            "                                                                                                  \n",
            " concatenate_3 (Concatenate  (None, 128, 128, 48)         0         ['up_sampling2d_3[0][0]',     \n",
            " )                                                                   'conv2d_1[0][0]']            \n",
            "                                                                                                  \n",
            " conv2d_16 (Conv2D)          (None, 128, 128, 16)         6928      ['concatenate_3[0][0]']       \n",
            "                                                                                                  \n",
            " conv2d_17 (Conv2D)          (None, 128, 128, 16)         2320      ['conv2d_16[0][0]']           \n",
            "                                                                                                  \n",
            " conv2d_18 (Conv2D)          (None, 128, 128, 1)          17        ['conv2d_17[0][0]']           \n",
            "                                                                                                  \n",
            "==================================================================================================\n",
            "Total params: 1962625 (7.49 MB)\n",
            "Trainable params: 1962625 (7.49 MB)\n",
            "Non-trainable params: 0 (0.00 Byte)\n",
            "__________________________________________________________________________________________________\n"
          ]
        }
      ]
    },
    {
      "cell_type": "code",
      "source": [
        "plt.subplot(141)\n",
        "plt.imshow(images[0])\n",
        "plt.subplot(142)\n",
        "plt.imshow(masks[0])\n",
        "\n",
        "images = np.array(images)\n",
        "masks = np.array(masks)\n",
        "images = images/255.\n",
        "masks = masks/255.\n",
        "\n",
        "plt.subplot(143)\n",
        "plt.imshow(images[0])\n",
        "plt.subplot(144)\n",
        "plt.imshow(masks[0])\n",
        "\n",
        "plt.show()\n"
      ],
      "metadata": {
        "colab": {
          "base_uri": "https://localhost:8080/",
          "height": 173
        },
        "id": "kNoxqHbF7maH",
        "outputId": "5eba74f9-98c2-4163-c1a6-f499b5352ec9"
      },
      "execution_count": 8,
      "outputs": [
        {
          "output_type": "display_data",
          "data": {
            "text/plain": [
              "<Figure size 640x480 with 4 Axes>"
            ],
            "image/png": "[encoded data removed]"
          },
          "metadata": {}
        }
      ]
    },
    {
      "cell_type": "code",
      "source": [
        "model.fit(images, masks, epochs=150, validation_split=0.2)"
      ],
      "metadata": {
        "colab": {
          "base_uri": "https://localhost:8080/"
        },
        "id": "h3NP13VDHvcx",
        "outputId": "621ea133-4c89-4b73-e375-acfb4079fc25"
      },
      "execution_count": 9,
      "outputs": [
        {
          "output_type": "stream",
          "name": "stdout",
          "text": [
            "Epoch 1/150\n",
            "5/5 [==============================] - 19s 316ms/step - loss: 0.7124 - accuracy: 0.6376 - val_loss: 0.5543 - val_accuracy: 0.8413\n",
            "Epoch 2/150\n",
            "5/5 [==============================] - 0s 87ms/step - loss: 0.6131 - accuracy: 0.8528 - val_loss: 0.6014 - val_accuracy: 0.8488\n",
            "Epoch 3/150\n",
            "5/5 [==============================] - 0s 88ms/step - loss: 0.5256 - accuracy: 0.8550 - val_loss: 0.4886 - val_accuracy: 0.8487\n",
            "Epoch 4/150\n",
            "5/5 [==============================] - 0s 85ms/step - loss: 0.4602 - accuracy: 0.8550 - val_loss: 0.4136 - val_accuracy: 0.8488\n",
            "Epoch 5/150\n",
            "5/5 [==============================] - 0s 86ms/step - loss: 0.4185 - accuracy: 0.8551 - val_loss: 0.3764 - val_accuracy: 0.8488\n",
            "Epoch 6/150\n",
            "5/5 [==============================] - 0s 86ms/step - loss: 0.3710 - accuracy: 0.8551 - val_loss: 0.3630 - val_accuracy: 0.8488\n",
            "Epoch 7/150\n",
            "5/5 [==============================] - 0s 86ms/step - loss: 0.3518 - accuracy: 0.8551 - val_loss: 0.3466 - val_accuracy: 0.8488\n",
            "Epoch 8/150\n",
            "5/5 [==============================] - 0s 94ms/step - loss: 0.3475 - accuracy: 0.8551 - val_loss: 0.3495 - val_accuracy: 0.8488\n",
            "Epoch 9/150\n",
            "5/5 [==============================] - 0s 85ms/step - loss: 0.3456 - accuracy: 0.8551 - val_loss: 0.3676 - val_accuracy: 0.8488\n",
            "Epoch 10/150\n",
            "5/5 [==============================] - 0s 93ms/step - loss: 0.3457 - accuracy: 0.8551 - val_loss: 0.3676 - val_accuracy: 0.8488\n",
            "Epoch 11/150\n",
            "5/5 [==============================] - 0s 86ms/step - loss: 0.3437 - accuracy: 0.8551 - val_loss: 0.3414 - val_accuracy: 0.8488\n",
            "Epoch 12/150\n",
            "5/5 [==============================] - 0s 93ms/step - loss: 0.3383 - accuracy: 0.8551 - val_loss: 0.3437 - val_accuracy: 0.8488\n",
            "Epoch 13/150\n",
            "5/5 [==============================] - 0s 85ms/step - loss: 0.3349 - accuracy: 0.8551 - val_loss: 0.3398 - val_accuracy: 0.8488\n",
            "Epoch 14/150\n",
            "5/5 [==============================] - 0s 91ms/step - loss: 0.3297 - accuracy: 0.8551 - val_loss: 0.3361 - val_accuracy: 0.8488\n",
            "Epoch 15/150\n",
            "5/5 [==============================] - 0s 98ms/step - loss: 0.3285 - accuracy: 0.8551 - val_loss: 0.3340 - val_accuracy: 0.8488\n",
            "Epoch 16/150\n",
            "5/5 [==============================] - 0s 91ms/step - loss: 0.3361 - accuracy: 0.8551 - val_loss: 0.3423 - val_accuracy: 0.8488\n",
            "Epoch 17/150\n",
            "5/5 [==============================] - 0s 90ms/step - loss: 0.3281 - accuracy: 0.8551 - val_loss: 0.3401 - val_accuracy: 0.8488\n",
            "Epoch 18/150\n",
            "5/5 [==============================] - 0s 97ms/step - loss: 0.3273 - accuracy: 0.8551 - val_loss: 0.3412 - val_accuracy: 0.8488\n",
            "Epoch 19/150\n",
            "5/5 [==============================] - 0s 92ms/step - loss: 0.3246 - accuracy: 0.8551 - val_loss: 0.3314 - val_accuracy: 0.8488\n",
            "Epoch 20/150\n",
            "5/5 [==============================] - 0s 101ms/step - loss: 0.3213 - accuracy: 0.8551 - val_loss: 0.3308 - val_accuracy: 0.8488\n",
            "Epoch 21/150\n",
            "5/5 [==============================] - 0s 91ms/step - loss: 0.3198 - accuracy: 0.8551 - val_loss: 0.3366 - val_accuracy: 0.8488\n",
            "Epoch 22/150\n",
            "5/5 [==============================] - 0s 87ms/step - loss: 0.3186 - accuracy: 0.8551 - val_loss: 0.3283 - val_accuracy: 0.8488\n",
            "Epoch 23/150\n",
            "5/5 [==============================] - 0s 86ms/step - loss: 0.3184 - accuracy: 0.8551 - val_loss: 0.3376 - val_accuracy: 0.8488\n",
            "Epoch 24/150\n",
            "5/5 [==============================] - 0s 93ms/step - loss: 0.3180 - accuracy: 0.8551 - val_loss: 0.3298 - val_accuracy: 0.8488\n",
            "Epoch 25/150\n",
            "5/5 [==============================] - 0s 94ms/step - loss: 0.3194 - accuracy: 0.8551 - val_loss: 0.3398 - val_accuracy: 0.8488\n",
            "Epoch 26/150\n",
            "5/5 [==============================] - 0s 95ms/step - loss: 0.3184 - accuracy: 0.8551 - val_loss: 0.3358 - val_accuracy: 0.8488\n",
            "Epoch 27/150\n",
            "5/5 [==============================] - 0s 88ms/step - loss: 0.3287 - accuracy: 0.8551 - val_loss: 0.3307 - val_accuracy: 0.8488\n",
            "Epoch 28/150\n",
            "5/5 [==============================] - 0s 86ms/step - loss: 0.3225 - accuracy: 0.8551 - val_loss: 0.3429 - val_accuracy: 0.8488\n",
            "Epoch 29/150\n",
            "5/5 [==============================] - 0s 87ms/step - loss: 0.3183 - accuracy: 0.8551 - val_loss: 0.3289 - val_accuracy: 0.8488\n",
            "Epoch 30/150\n",
            "5/5 [==============================] - 0s 87ms/step - loss: 0.3189 - accuracy: 0.8551 - val_loss: 0.3333 - val_accuracy: 0.8488\n",
            "Epoch 31/150\n",
            "5/5 [==============================] - 0s 87ms/step - loss: 0.3204 - accuracy: 0.8551 - val_loss: 0.3453 - val_accuracy: 0.8488\n",
            "Epoch 32/150\n",
            "5/5 [==============================] - 0s 87ms/step - loss: 0.3307 - accuracy: 0.8551 - val_loss: 0.3412 - val_accuracy: 0.8488\n",
            "Epoch 33/150\n",
            "5/5 [==============================] - 0s 87ms/step - loss: 0.3256 - accuracy: 0.8551 - val_loss: 0.3495 - val_accuracy: 0.8488\n",
            "Epoch 34/150\n",
            "5/5 [==============================] - 0s 87ms/step - loss: 0.3239 - accuracy: 0.8551 - val_loss: 0.3386 - val_accuracy: 0.8488\n",
            "Epoch 35/150\n",
            "5/5 [==============================] - 0s 87ms/step - loss: 0.3174 - accuracy: 0.8551 - val_loss: 0.3392 - val_accuracy: 0.8488\n",
            "Epoch 36/150\n",
            "5/5 [==============================] - 0s 87ms/step - loss: 0.3191 - accuracy: 0.8551 - val_loss: 0.3344 - val_accuracy: 0.8488\n",
            "Epoch 37/150\n",
            "5/5 [==============================] - 0s 86ms/step - loss: 0.3187 - accuracy: 0.8551 - val_loss: 0.3385 - val_accuracy: 0.8488\n",
            "Epoch 38/150\n",
            "5/5 [==============================] - 0s 85ms/step - loss: 0.3142 - accuracy: 0.8551 - val_loss: 0.3304 - val_accuracy: 0.8488\n",
            "Epoch 39/150\n",
            "5/5 [==============================] - 0s 87ms/step - loss: 0.3151 - accuracy: 0.8551 - val_loss: 0.3309 - val_accuracy: 0.8488\n",
            "Epoch 40/150\n",
            "5/5 [==============================] - 0s 86ms/step - loss: 0.3103 - accuracy: 0.8551 - val_loss: 0.3406 - val_accuracy: 0.8488\n",
            "Epoch 41/150\n",
            "5/5 [==============================] - 0s 95ms/step - loss: 0.3100 - accuracy: 0.8551 - val_loss: 0.3424 - val_accuracy: 0.8488\n",
            "Epoch 42/150\n",
            "5/5 [==============================] - 0s 94ms/step - loss: 0.3077 - accuracy: 0.8551 - val_loss: 0.3341 - val_accuracy: 0.8488\n",
            "Epoch 43/150\n",
            "5/5 [==============================] - 0s 94ms/step - loss: 0.3028 - accuracy: 0.8552 - val_loss: 0.3491 - val_accuracy: 0.8488\n",
            "Epoch 44/150\n",
            "5/5 [==============================] - 0s 95ms/step - loss: 0.3080 - accuracy: 0.8531 - val_loss: 0.3377 - val_accuracy: 0.8497\n",
            "Epoch 45/150\n",
            "5/5 [==============================] - 0s 97ms/step - loss: 0.3067 - accuracy: 0.8592 - val_loss: 0.3441 - val_accuracy: 0.8486\n",
            "Epoch 46/150\n",
            "5/5 [==============================] - 0s 96ms/step - loss: 0.3030 - accuracy: 0.8613 - val_loss: 0.3503 - val_accuracy: 0.8470\n",
            "Epoch 47/150\n",
            "5/5 [==============================] - 0s 98ms/step - loss: 0.3052 - accuracy: 0.8564 - val_loss: 0.3516 - val_accuracy: 0.8440\n",
            "Epoch 48/150\n",
            "5/5 [==============================] - 0s 93ms/step - loss: 0.3012 - accuracy: 0.8614 - val_loss: 0.3519 - val_accuracy: 0.8502\n",
            "Epoch 49/150\n",
            "5/5 [==============================] - 0s 101ms/step - loss: 0.2976 - accuracy: 0.8617 - val_loss: 0.3475 - val_accuracy: 0.8432\n",
            "Epoch 50/150\n",
            "5/5 [==============================] - 0s 101ms/step - loss: 0.2959 - accuracy: 0.8625 - val_loss: 0.3711 - val_accuracy: 0.8491\n",
            "Epoch 51/150\n",
            "5/5 [==============================] - 0s 99ms/step - loss: 0.2976 - accuracy: 0.8640 - val_loss: 0.3674 - val_accuracy: 0.8479\n",
            "Epoch 52/150\n",
            "5/5 [==============================] - 0s 102ms/step - loss: 0.2888 - accuracy: 0.8676 - val_loss: 0.3743 - val_accuracy: 0.8450\n",
            "Epoch 53/150\n",
            "5/5 [==============================] - 0s 89ms/step - loss: 0.2928 - accuracy: 0.8670 - val_loss: 0.3799 - val_accuracy: 0.8428\n",
            "Epoch 54/150\n",
            "5/5 [==============================] - 0s 88ms/step - loss: 0.2922 - accuracy: 0.8655 - val_loss: 0.3610 - val_accuracy: 0.8457\n",
            "Epoch 55/150\n",
            "5/5 [==============================] - 0s 87ms/step - loss: 0.2841 - accuracy: 0.8697 - val_loss: 0.3713 - val_accuracy: 0.8309\n",
            "Epoch 56/150\n",
            "5/5 [==============================] - 0s 87ms/step - loss: 0.2772 - accuracy: 0.8721 - val_loss: 0.3723 - val_accuracy: 0.8326\n",
            "Epoch 57/150\n",
            "5/5 [==============================] - 0s 87ms/step - loss: 0.2833 - accuracy: 0.8682 - val_loss: 0.3694 - val_accuracy: 0.8337\n",
            "Epoch 58/150\n",
            "5/5 [==============================] - 0s 87ms/step - loss: 0.2810 - accuracy: 0.8732 - val_loss: 0.3756 - val_accuracy: 0.8222\n",
            "Epoch 59/150\n",
            "5/5 [==============================] - 0s 88ms/step - loss: 0.2776 - accuracy: 0.8721 - val_loss: 0.3933 - val_accuracy: 0.8360\n",
            "Epoch 60/150\n",
            "5/5 [==============================] - 0s 88ms/step - loss: 0.2686 - accuracy: 0.8745 - val_loss: 0.3889 - val_accuracy: 0.8246\n",
            "Epoch 61/150\n",
            "5/5 [==============================] - 0s 96ms/step - loss: 0.2635 - accuracy: 0.8806 - val_loss: 0.4171 - val_accuracy: 0.8477\n",
            "Epoch 62/150\n",
            "5/5 [==============================] - 0s 89ms/step - loss: 0.2628 - accuracy: 0.8754 - val_loss: 0.4014 - val_accuracy: 0.8376\n",
            "Epoch 63/150\n",
            "5/5 [==============================] - 0s 88ms/step - loss: 0.2663 - accuracy: 0.8800 - val_loss: 0.4271 - val_accuracy: 0.8436\n",
            "Epoch 64/150\n",
            "5/5 [==============================] - 0s 88ms/step - loss: 0.2491 - accuracy: 0.8920 - val_loss: 0.4332 - val_accuracy: 0.8403\n",
            "Epoch 65/150\n",
            "5/5 [==============================] - 0s 95ms/step - loss: 0.2547 - accuracy: 0.8867 - val_loss: 0.3846 - val_accuracy: 0.8357\n",
            "Epoch 66/150\n",
            "5/5 [==============================] - 0s 88ms/step - loss: 0.2413 - accuracy: 0.8928 - val_loss: 0.4154 - val_accuracy: 0.8193\n",
            "Epoch 67/150\n",
            "5/5 [==============================] - 0s 89ms/step - loss: 0.2236 - accuracy: 0.9008 - val_loss: 0.4937 - val_accuracy: 0.8378\n",
            "Epoch 68/150\n",
            "5/5 [==============================] - 0s 88ms/step - loss: 0.2231 - accuracy: 0.9046 - val_loss: 0.5078 - val_accuracy: 0.8221\n",
            "Epoch 69/150\n",
            "5/5 [==============================] - 0s 88ms/step - loss: 0.2171 - accuracy: 0.9045 - val_loss: 0.4324 - val_accuracy: 0.8257\n",
            "Epoch 70/150\n",
            "5/5 [==============================] - 0s 89ms/step - loss: 0.1999 - accuracy: 0.9114 - val_loss: 0.5227 - val_accuracy: 0.8210\n",
            "Epoch 71/150\n",
            "5/5 [==============================] - 0s 96ms/step - loss: 0.1757 - accuracy: 0.9243 - val_loss: 0.5860 - val_accuracy: 0.8165\n",
            "Epoch 72/150\n",
            "5/5 [==============================] - 0s 96ms/step - loss: 0.1616 - accuracy: 0.9300 - val_loss: 0.5674 - val_accuracy: 0.7940\n",
            "Epoch 73/150\n",
            "5/5 [==============================] - 0s 88ms/step - loss: 0.1673 - accuracy: 0.9277 - val_loss: 0.5693 - val_accuracy: 0.8278\n",
            "Epoch 74/150\n",
            "5/5 [==============================] - 0s 89ms/step - loss: 0.1820 - accuracy: 0.9198 - val_loss: 0.5272 - val_accuracy: 0.7780\n",
            "Epoch 75/150\n",
            "5/5 [==============================] - 0s 95ms/step - loss: 0.1940 - accuracy: 0.9123 - val_loss: 0.5345 - val_accuracy: 0.8330\n",
            "Epoch 76/150\n",
            "5/5 [==============================] - 0s 94ms/step - loss: 0.1660 - accuracy: 0.9283 - val_loss: 0.5317 - val_accuracy: 0.8240\n",
            "Epoch 77/150\n",
            "5/5 [==============================] - 0s 98ms/step - loss: 0.1422 - accuracy: 0.9380 - val_loss: 0.7035 - val_accuracy: 0.8282\n",
            "Epoch 78/150\n",
            "5/5 [==============================] - 0s 93ms/step - loss: 0.1280 - accuracy: 0.9445 - val_loss: 0.6495 - val_accuracy: 0.8131\n",
            "Epoch 79/150\n",
            "5/5 [==============================] - 0s 95ms/step - loss: 0.1128 - accuracy: 0.9512 - val_loss: 0.7099 - val_accuracy: 0.8256\n",
            "Epoch 80/150\n",
            "5/5 [==============================] - 0s 92ms/step - loss: 0.1077 - accuracy: 0.9535 - val_loss: 0.8444 - val_accuracy: 0.8415\n",
            "Epoch 81/150\n",
            "5/5 [==============================] - 0s 101ms/step - loss: 0.1115 - accuracy: 0.9514 - val_loss: 0.6840 - val_accuracy: 0.8271\n",
            "Epoch 82/150\n",
            "5/5 [==============================] - 0s 100ms/step - loss: 0.0990 - accuracy: 0.9576 - val_loss: 0.7526 - val_accuracy: 0.8132\n",
            "Epoch 83/150\n",
            "5/5 [==============================] - 0s 100ms/step - loss: 0.0967 - accuracy: 0.9585 - val_loss: 0.7693 - val_accuracy: 0.8187\n",
            "Epoch 84/150\n",
            "5/5 [==============================] - 0s 97ms/step - loss: 0.0855 - accuracy: 0.9632 - val_loss: 0.8559 - val_accuracy: 0.8372\n",
            "Epoch 85/150\n",
            "5/5 [==============================] - 0s 90ms/step - loss: 0.0931 - accuracy: 0.9597 - val_loss: 0.6593 - val_accuracy: 0.8185\n",
            "Epoch 86/150\n",
            "5/5 [==============================] - 0s 89ms/step - loss: 0.0852 - accuracy: 0.9632 - val_loss: 0.7496 - val_accuracy: 0.8209\n",
            "Epoch 87/150\n",
            "5/5 [==============================] - 0s 89ms/step - loss: 0.0722 - accuracy: 0.9680 - val_loss: 0.9806 - val_accuracy: 0.8240\n",
            "Epoch 88/150\n",
            "5/5 [==============================] - 0s 89ms/step - loss: 0.0634 - accuracy: 0.9717 - val_loss: 1.0763 - val_accuracy: 0.8244\n",
            "Epoch 89/150\n",
            "5/5 [==============================] - 0s 96ms/step - loss: 0.0583 - accuracy: 0.9740 - val_loss: 0.9726 - val_accuracy: 0.8322\n",
            "Epoch 90/150\n",
            "5/5 [==============================] - 0s 90ms/step - loss: 0.0516 - accuracy: 0.9768 - val_loss: 1.0672 - val_accuracy: 0.8247\n",
            "Epoch 91/150\n",
            "5/5 [==============================] - 0s 96ms/step - loss: 0.0494 - accuracy: 0.9778 - val_loss: 1.1364 - val_accuracy: 0.8255\n",
            "Epoch 92/150\n",
            "5/5 [==============================] - 0s 89ms/step - loss: 0.0477 - accuracy: 0.9785 - val_loss: 1.1387 - val_accuracy: 0.8190\n",
            "Epoch 93/150\n",
            "5/5 [==============================] - 0s 90ms/step - loss: 0.0479 - accuracy: 0.9782 - val_loss: 1.0727 - val_accuracy: 0.8311\n",
            "Epoch 94/150\n",
            "5/5 [==============================] - 0s 90ms/step - loss: 0.0501 - accuracy: 0.9775 - val_loss: 1.0583 - val_accuracy: 0.8283\n",
            "Epoch 95/150\n",
            "5/5 [==============================] - 0s 89ms/step - loss: 0.0449 - accuracy: 0.9798 - val_loss: 1.1251 - val_accuracy: 0.8284\n",
            "Epoch 96/150\n",
            "5/5 [==============================] - 0s 90ms/step - loss: 0.0444 - accuracy: 0.9797 - val_loss: 1.2385 - val_accuracy: 0.8248\n",
            "Epoch 97/150\n",
            "5/5 [==============================] - 0s 89ms/step - loss: 0.0410 - accuracy: 0.9810 - val_loss: 1.2011 - val_accuracy: 0.8292\n",
            "Epoch 98/150\n",
            "5/5 [==============================] - 0s 89ms/step - loss: 0.0408 - accuracy: 0.9814 - val_loss: 1.2516 - val_accuracy: 0.8150\n",
            "Epoch 99/150\n",
            "5/5 [==============================] - 0s 89ms/step - loss: 0.0402 - accuracy: 0.9817 - val_loss: 1.2807 - val_accuracy: 0.8319\n",
            "Epoch 100/150\n",
            "5/5 [==============================] - 0s 90ms/step - loss: 0.0383 - accuracy: 0.9821 - val_loss: 1.3080 - val_accuracy: 0.8206\n",
            "Epoch 101/150\n",
            "5/5 [==============================] - 0s 90ms/step - loss: 0.0413 - accuracy: 0.9812 - val_loss: 1.3844 - val_accuracy: 0.8363\n",
            "Epoch 102/150\n",
            "5/5 [==============================] - 0s 89ms/step - loss: 0.0433 - accuracy: 0.9801 - val_loss: 1.2255 - val_accuracy: 0.8249\n",
            "Epoch 103/150\n",
            "5/5 [==============================] - 1s 115ms/step - loss: 0.0394 - accuracy: 0.9822 - val_loss: 1.3048 - val_accuracy: 0.8270\n",
            "Epoch 104/150\n",
            "5/5 [==============================] - 0s 98ms/step - loss: 0.0362 - accuracy: 0.9832 - val_loss: 1.3824 - val_accuracy: 0.8281\n",
            "Epoch 105/150\n",
            "5/5 [==============================] - 0s 89ms/step - loss: 0.0326 - accuracy: 0.9848 - val_loss: 1.5645 - val_accuracy: 0.8263\n",
            "Epoch 106/150\n",
            "5/5 [==============================] - 0s 100ms/step - loss: 0.0294 - accuracy: 0.9860 - val_loss: 1.5768 - val_accuracy: 0.8265\n",
            "Epoch 107/150\n",
            "5/5 [==============================] - 0s 94ms/step - loss: 0.0299 - accuracy: 0.9860 - val_loss: 1.5913 - val_accuracy: 0.8219\n",
            "Epoch 108/150\n",
            "5/5 [==============================] - 0s 101ms/step - loss: 0.0277 - accuracy: 0.9867 - val_loss: 1.5675 - val_accuracy: 0.8255\n",
            "Epoch 109/150\n",
            "5/5 [==============================] - 0s 104ms/step - loss: 0.0292 - accuracy: 0.9862 - val_loss: 1.5527 - val_accuracy: 0.8283\n",
            "Epoch 110/150\n",
            "5/5 [==============================] - 0s 93ms/step - loss: 0.0283 - accuracy: 0.9866 - val_loss: 1.6318 - val_accuracy: 0.8267\n",
            "Epoch 111/150\n",
            "5/5 [==============================] - 0s 101ms/step - loss: 0.0282 - accuracy: 0.9867 - val_loss: 1.5513 - val_accuracy: 0.8263\n",
            "Epoch 112/150\n",
            "5/5 [==============================] - 0s 96ms/step - loss: 0.0270 - accuracy: 0.9871 - val_loss: 1.6318 - val_accuracy: 0.8274\n",
            "Epoch 113/150\n",
            "5/5 [==============================] - 0s 101ms/step - loss: 0.0272 - accuracy: 0.9872 - val_loss: 1.6561 - val_accuracy: 0.8273\n",
            "Epoch 114/150\n",
            "5/5 [==============================] - 0s 99ms/step - loss: 0.0274 - accuracy: 0.9872 - val_loss: 1.5587 - val_accuracy: 0.8224\n",
            "Epoch 115/150\n",
            "5/5 [==============================] - 0s 92ms/step - loss: 0.0256 - accuracy: 0.9876 - val_loss: 1.6141 - val_accuracy: 0.8251\n",
            "Epoch 116/150\n",
            "5/5 [==============================] - 0s 90ms/step - loss: 0.0236 - accuracy: 0.9887 - val_loss: 1.7084 - val_accuracy: 0.8233\n",
            "Epoch 117/150\n",
            "5/5 [==============================] - 0s 89ms/step - loss: 0.0221 - accuracy: 0.9892 - val_loss: 1.8300 - val_accuracy: 0.8322\n",
            "Epoch 118/150\n",
            "5/5 [==============================] - 0s 90ms/step - loss: 0.0237 - accuracy: 0.9886 - val_loss: 1.8609 - val_accuracy: 0.8300\n",
            "Epoch 119/150\n",
            "5/5 [==============================] - 0s 89ms/step - loss: 0.0247 - accuracy: 0.9882 - val_loss: 1.8023 - val_accuracy: 0.8320\n",
            "Epoch 120/150\n",
            "5/5 [==============================] - 0s 89ms/step - loss: 0.0244 - accuracy: 0.9881 - val_loss: 1.7424 - val_accuracy: 0.8249\n",
            "Epoch 121/150\n",
            "5/5 [==============================] - 0s 90ms/step - loss: 0.0242 - accuracy: 0.9885 - val_loss: 1.6897 - val_accuracy: 0.8249\n",
            "Epoch 122/150\n",
            "5/5 [==============================] - 0s 92ms/step - loss: 0.0223 - accuracy: 0.9890 - val_loss: 1.7304 - val_accuracy: 0.8265\n",
            "Epoch 123/150\n",
            "5/5 [==============================] - 0s 91ms/step - loss: 0.0199 - accuracy: 0.9902 - val_loss: 1.9796 - val_accuracy: 0.8274\n",
            "Epoch 124/150\n",
            "5/5 [==============================] - 0s 90ms/step - loss: 0.0197 - accuracy: 0.9903 - val_loss: 2.0468 - val_accuracy: 0.8222\n",
            "Epoch 125/150\n",
            "5/5 [==============================] - 0s 91ms/step - loss: 0.0229 - accuracy: 0.9890 - val_loss: 2.0297 - val_accuracy: 0.8289\n",
            "Epoch 126/150\n",
            "5/5 [==============================] - 0s 98ms/step - loss: 0.0256 - accuracy: 0.9877 - val_loss: 1.7582 - val_accuracy: 0.8336\n",
            "Epoch 127/150\n",
            "5/5 [==============================] - 0s 89ms/step - loss: 0.0278 - accuracy: 0.9868 - val_loss: 1.5812 - val_accuracy: 0.8206\n",
            "Epoch 128/150\n",
            "5/5 [==============================] - 0s 91ms/step - loss: 0.0287 - accuracy: 0.9862 - val_loss: 1.4293 - val_accuracy: 0.8273\n",
            "Epoch 129/150\n",
            "5/5 [==============================] - 0s 92ms/step - loss: 0.0269 - accuracy: 0.9872 - val_loss: 1.5381 - val_accuracy: 0.8205\n",
            "Epoch 130/150\n",
            "5/5 [==============================] - 0s 92ms/step - loss: 0.0234 - accuracy: 0.9885 - val_loss: 1.6606 - val_accuracy: 0.8252\n",
            "Epoch 131/150\n",
            "5/5 [==============================] - 0s 90ms/step - loss: 0.0233 - accuracy: 0.9887 - val_loss: 1.8733 - val_accuracy: 0.8218\n",
            "Epoch 132/150\n",
            "5/5 [==============================] - 0s 91ms/step - loss: 0.0198 - accuracy: 0.9902 - val_loss: 1.9819 - val_accuracy: 0.8235\n",
            "Epoch 133/150\n",
            "5/5 [==============================] - 0s 90ms/step - loss: 0.0198 - accuracy: 0.9901 - val_loss: 1.9405 - val_accuracy: 0.8288\n",
            "Epoch 134/150\n",
            "5/5 [==============================] - 0s 91ms/step - loss: 0.0183 - accuracy: 0.9909 - val_loss: 2.0411 - val_accuracy: 0.8267\n",
            "Epoch 135/150\n",
            "5/5 [==============================] - 0s 99ms/step - loss: 0.0172 - accuracy: 0.9914 - val_loss: 2.1093 - val_accuracy: 0.8254\n",
            "Epoch 136/150\n",
            "5/5 [==============================] - 0s 103ms/step - loss: 0.0170 - accuracy: 0.9916 - val_loss: 2.1609 - val_accuracy: 0.8293\n",
            "Epoch 137/150\n",
            "5/5 [==============================] - 0s 103ms/step - loss: 0.0163 - accuracy: 0.9917 - val_loss: 2.2767 - val_accuracy: 0.8262\n",
            "Epoch 138/150\n",
            "5/5 [==============================] - 0s 104ms/step - loss: 0.0162 - accuracy: 0.9918 - val_loss: 2.2569 - val_accuracy: 0.8247\n",
            "Epoch 139/150\n",
            "5/5 [==============================] - 0s 104ms/step - loss: 0.0157 - accuracy: 0.9919 - val_loss: 2.2145 - val_accuracy: 0.8290\n",
            "Epoch 140/150\n",
            "5/5 [==============================] - 0s 96ms/step - loss: 0.0150 - accuracy: 0.9923 - val_loss: 2.3375 - val_accuracy: 0.8264\n",
            "Epoch 141/150\n",
            "5/5 [==============================] - 0s 104ms/step - loss: 0.0143 - accuracy: 0.9926 - val_loss: 2.3790 - val_accuracy: 0.8261\n",
            "Epoch 142/150\n",
            "5/5 [==============================] - 0s 105ms/step - loss: 0.0136 - accuracy: 0.9929 - val_loss: 2.4927 - val_accuracy: 0.8250\n",
            "Epoch 143/150\n",
            "5/5 [==============================] - 0s 98ms/step - loss: 0.0141 - accuracy: 0.9926 - val_loss: 2.5352 - val_accuracy: 0.8256\n",
            "Epoch 144/150\n",
            "5/5 [==============================] - 0s 98ms/step - loss: 0.0147 - accuracy: 0.9925 - val_loss: 2.5019 - val_accuracy: 0.8292\n",
            "Epoch 145/150\n",
            "5/5 [==============================] - 0s 91ms/step - loss: 0.0150 - accuracy: 0.9923 - val_loss: 2.3782 - val_accuracy: 0.8238\n",
            "Epoch 146/150\n",
            "5/5 [==============================] - 0s 91ms/step - loss: 0.0150 - accuracy: 0.9923 - val_loss: 2.2941 - val_accuracy: 0.8263\n",
            "Epoch 147/150\n",
            "5/5 [==============================] - 0s 99ms/step - loss: 0.0148 - accuracy: 0.9924 - val_loss: 2.4539 - val_accuracy: 0.8277\n",
            "Epoch 148/150\n",
            "5/5 [==============================] - 0s 91ms/step - loss: 0.0147 - accuracy: 0.9924 - val_loss: 2.4019 - val_accuracy: 0.8293\n",
            "Epoch 149/150\n",
            "5/5 [==============================] - 0s 100ms/step - loss: 0.0144 - accuracy: 0.9926 - val_loss: 2.4402 - val_accuracy: 0.8264\n",
            "Epoch 150/150\n",
            "5/5 [==============================] - 0s 98ms/step - loss: 0.0137 - accuracy: 0.9928 - val_loss: 2.5135 - val_accuracy: 0.8249\n"
          ]
        },
        {
          "output_type": "execute_result",
          "data": {
            "text/plain": [
              "<keras.src.callbacks.History at 0x78b502162560>"
            ]
          },
          "metadata": {},
          "execution_count": 9
        }
      ]
    },
    {
      "cell_type": "code",
      "source": [
        "ans = model.predict(np.array([images[0]]))\n",
        "\n",
        "print(ans.shape)\n",
        "\n",
        "ans = ans[0] > 0.5\n",
        "\n",
        "plt.imshow(ans)\n",
        "plt.show()"
      ],
      "metadata": {
        "colab": {
          "base_uri": "https://localhost:8080/",
          "height": 469
        },
        "id": "raXuA0QGe2SU",
        "outputId": "33656ff0-acd3-461d-ae66-a8eb9867fafa"
      },
      "execution_count": 10,
      "outputs": [
        {
          "output_type": "stream",
          "name": "stdout",
          "text": [
            "1/1 [==============================] - 1s 650ms/step\n",
            "(1, 128, 128, 1)\n"
          ]
        },
        {
          "output_type": "display_data",
          "data": {
            "text/plain": [
              "<Figure size 640x480 with 1 Axes>"
            ],
            "image/png": "[encoded data removed]"
          },
          "metadata": {}
        }
      ]
    },
    {
      "cell_type": "code",
      "source": [],
      "metadata": {
        "id": "TdbY5YMA3onb"
      },
      "execution_count": null,
      "outputs": []
    }
  ]
}